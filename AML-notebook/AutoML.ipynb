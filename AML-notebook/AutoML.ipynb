{
  "cells": [
    {
      "cell_type": "markdown",
      "source": [
        "Sprawozdanie \r\n",
        "\r\n",
        "Use Case\r\n",
        "W tym projekcie użyto datasetu związanego z parametrami i zarobkami koszykarzy w lidze NBA.\r\n",
        "Wyniki przechowywane są w kolumnie salary.\r\n",
        "W przypadku tego rodzaju danych użyto modelu regresji do przewidywania zarobków gracza na podstawie pozostałych parametrów.\r\n",
        "\r\n",
        "Kroki:\r\n",
        "1. Stworzenie resource group i zasobu Machine Learning.\r\n",
        "2. Stworzenie Compute Instance i Cluster Instance.\r\n",
        "3. Załadowanie danych - ustawienie kolumny target jako kolumny predykcji\r\n",
        "4. Uruchomienie Automated ML \r\n",
        "Pierwszym krokiem było załadowanie zestawu danych w formacji .csv i skonfigurowanie ich migracji (m. in. rozpoznanie nazw kolumn, ustalenie która kolumna jest targetem klasyfikacji) do chmury.\r\n",
        "Plik z datasetem: https://www.kaggle.com/isaienkov/nba2k20-player-dataset/tasks?taskId=1925\r\n",
        "Drugim przeprowadzenie operacji AutoML, która pozwoliła na przegląd skuteczności modeli.\r\n"
      ],
      "metadata": {
        "nteract": {
          "transient": {
            "deleting": false
          }
        }
      }
    },
    {
      "cell_type": "markdown",
      "source": [
        "Jupyter notebook\r\n",
        "\r\n",
        "Azure ML Workspace"
      ],
      "metadata": {
        "nteract": {
          "transient": {
            "deleting": false
          }
        }
      }
    },
    {
      "cell_type": "code",
      "source": [
        "# Check core SDK version number\r\n",
        "import azureml.core\r\n",
        "\r\n",
        "print(\"SDK version:\", azureml.core.VERSION)"
      ],
      "outputs": [
        {
          "output_type": "stream",
          "name": "stdout",
          "text": [
            "SDK version: 1.20.0\n"
          ]
        }
      ],
      "execution_count": 1,
      "metadata": {
        "collapsed": true,
        "jupyter": {
          "source_hidden": false,
          "outputs_hidden": false
        },
        "nteract": {
          "transient": {
            "deleting": false
          }
        },
        "gather": {
          "logged": 1612135486894
        }
      }
    },
    {
      "cell_type": "code",
      "source": [
        "# azureml-core of version 1.0.72 or higher is required\r\n",
        "from azureml.core import Workspace, Dataset\r\n",
        "\r\n",
        "# Get Workspace defined in by default config.json file\r\n",
        "ws = Workspace.from_config()"
      ],
      "outputs": [],
      "execution_count": 2,
      "metadata": {
        "collapsed": true,
        "jupyter": {
          "source_hidden": false,
          "outputs_hidden": false
        },
        "nteract": {
          "transient": {
            "deleting": false
          }
        },
        "gather": {
          "logged": 1612135487235
        }
      }
    },
    {
      "cell_type": "markdown",
      "source": [
        "Ładowanie danych i wyświetlenie pierwszych pięciu kolumn wraz z statystykami danych liczbowych parametrów. "
      ],
      "metadata": {
        "nteract": {
          "transient": {
            "deleting": false
          }
        }
      }
    },
    {
      "cell_type": "code",
      "source": [
        "\r\n",
        "# Load Data\r\n",
        "aml_dataset = ws.datasets['nba2020']\r\n",
        "full_df = aml_dataset.to_pandas_dataframe()\r\n",
        "full_df.head(5)\r\n"
      ],
      "outputs": [
        {
          "output_type": "execute_result",
          "execution_count": 3,
          "data": {
            "text/plain": "               full_name  rating                  team position      b_day  \\\n0           LeBron James      97    Los Angeles Lakers        F 1984-12-30   \n1          Kawhi Leonard      97  Los Angeles Clippers        F 1991-06-29   \n2  Giannis Antetokounmpo      96       Milwaukee Bucks      F-G 1994-12-06   \n3           Kevin Durant      96         Brooklyn Nets        F 1988-09-29   \n4           James Harden      96       Houston Rockets        G 1989-08-26   \n\n        height                weight    salary country  draft_year  \\\n0   6-9 / 2.06  250 lbs. / 113.4 kg.  37436858     USA        2003   \n1   6-7 / 2.01  225 lbs. / 102.1 kg.  32742000     USA        2011   \n2  6-11 / 2.11  242 lbs. / 109.8 kg.  25842697  Greece        2013   \n3  6-10 / 2.08  230 lbs. / 104.3 kg.  37199000     USA        2007   \n4   6-5 / 1.96   220 lbs. / 99.8 kg.  38199000     USA        2009   \n\n  draft_round draft_peak          college  \n0           1          1             None  \n1           1         15  San Diego State  \n2           1         15             None  \n3           1          2            Texas  \n4           1          3    Arizona State  ",
            "text/html": "<div>\n<style scoped>\n    .dataframe tbody tr th:only-of-type {\n        vertical-align: middle;\n    }\n\n    .dataframe tbody tr th {\n        vertical-align: top;\n    }\n\n    .dataframe thead th {\n        text-align: right;\n    }\n</style>\n<table border=\"1\" class=\"dataframe\">\n  <thead>\n    <tr style=\"text-align: right;\">\n      <th></th>\n      <th>full_name</th>\n      <th>rating</th>\n      <th>team</th>\n      <th>position</th>\n      <th>b_day</th>\n      <th>height</th>\n      <th>weight</th>\n      <th>salary</th>\n      <th>country</th>\n      <th>draft_year</th>\n      <th>draft_round</th>\n      <th>draft_peak</th>\n      <th>college</th>\n    </tr>\n  </thead>\n  <tbody>\n    <tr>\n      <th>0</th>\n      <td>LeBron James</td>\n      <td>97</td>\n      <td>Los Angeles Lakers</td>\n      <td>F</td>\n      <td>1984-12-30</td>\n      <td>6-9 / 2.06</td>\n      <td>250 lbs. / 113.4 kg.</td>\n      <td>37436858</td>\n      <td>USA</td>\n      <td>2003</td>\n      <td>1</td>\n      <td>1</td>\n      <td>None</td>\n    </tr>\n    <tr>\n      <th>1</th>\n      <td>Kawhi Leonard</td>\n      <td>97</td>\n      <td>Los Angeles Clippers</td>\n      <td>F</td>\n      <td>1991-06-29</td>\n      <td>6-7 / 2.01</td>\n      <td>225 lbs. / 102.1 kg.</td>\n      <td>32742000</td>\n      <td>USA</td>\n      <td>2011</td>\n      <td>1</td>\n      <td>15</td>\n      <td>San Diego State</td>\n    </tr>\n    <tr>\n      <th>2</th>\n      <td>Giannis Antetokounmpo</td>\n      <td>96</td>\n      <td>Milwaukee Bucks</td>\n      <td>F-G</td>\n      <td>1994-12-06</td>\n      <td>6-11 / 2.11</td>\n      <td>242 lbs. / 109.8 kg.</td>\n      <td>25842697</td>\n      <td>Greece</td>\n      <td>2013</td>\n      <td>1</td>\n      <td>15</td>\n      <td>None</td>\n    </tr>\n    <tr>\n      <th>3</th>\n      <td>Kevin Durant</td>\n      <td>96</td>\n      <td>Brooklyn Nets</td>\n      <td>F</td>\n      <td>1988-09-29</td>\n      <td>6-10 / 2.08</td>\n      <td>230 lbs. / 104.3 kg.</td>\n      <td>37199000</td>\n      <td>USA</td>\n      <td>2007</td>\n      <td>1</td>\n      <td>2</td>\n      <td>Texas</td>\n    </tr>\n    <tr>\n      <th>4</th>\n      <td>James Harden</td>\n      <td>96</td>\n      <td>Houston Rockets</td>\n      <td>G</td>\n      <td>1989-08-26</td>\n      <td>6-5 / 1.96</td>\n      <td>220 lbs. / 99.8 kg.</td>\n      <td>38199000</td>\n      <td>USA</td>\n      <td>2009</td>\n      <td>1</td>\n      <td>3</td>\n      <td>Arizona State</td>\n    </tr>\n  </tbody>\n</table>\n</div>"
          },
          "metadata": {}
        }
      ],
      "execution_count": 3,
      "metadata": {
        "collapsed": true,
        "jupyter": {
          "source_hidden": false,
          "outputs_hidden": false
        },
        "nteract": {
          "transient": {
            "deleting": false
          }
        },
        "gather": {
          "logged": 1612135492139
        }
      }
    },
    {
      "cell_type": "code",
      "source": [
        "full_df.describe()"
      ],
      "outputs": [
        {
          "output_type": "execute_result",
          "execution_count": 4,
          "data": {
            "text/plain": "           rating        salary   draft_year\ncount  429.000000  4.290000e+02   429.000000\nmean    76.372960  8.530080e+06  2014.093240\nstd      5.657748  9.218059e+06     3.937678\nmin     67.000000  5.000000e+04  2001.000000\n25%     72.000000  2.000000e+06  2012.000000\n50%     75.000000  4.380120e+06  2015.000000\n75%     79.000000  1.220000e+07  2017.000000\nmax     97.000000  4.023176e+07  2019.000000",
            "text/html": "<div>\n<style scoped>\n    .dataframe tbody tr th:only-of-type {\n        vertical-align: middle;\n    }\n\n    .dataframe tbody tr th {\n        vertical-align: top;\n    }\n\n    .dataframe thead th {\n        text-align: right;\n    }\n</style>\n<table border=\"1\" class=\"dataframe\">\n  <thead>\n    <tr style=\"text-align: right;\">\n      <th></th>\n      <th>rating</th>\n      <th>salary</th>\n      <th>draft_year</th>\n    </tr>\n  </thead>\n  <tbody>\n    <tr>\n      <th>count</th>\n      <td>429.000000</td>\n      <td>4.290000e+02</td>\n      <td>429.000000</td>\n    </tr>\n    <tr>\n      <th>mean</th>\n      <td>76.372960</td>\n      <td>8.530080e+06</td>\n      <td>2014.093240</td>\n    </tr>\n    <tr>\n      <th>std</th>\n      <td>5.657748</td>\n      <td>9.218059e+06</td>\n      <td>3.937678</td>\n    </tr>\n    <tr>\n      <th>min</th>\n      <td>67.000000</td>\n      <td>5.000000e+04</td>\n      <td>2001.000000</td>\n    </tr>\n    <tr>\n      <th>25%</th>\n      <td>72.000000</td>\n      <td>2.000000e+06</td>\n      <td>2012.000000</td>\n    </tr>\n    <tr>\n      <th>50%</th>\n      <td>75.000000</td>\n      <td>4.380120e+06</td>\n      <td>2015.000000</td>\n    </tr>\n    <tr>\n      <th>75%</th>\n      <td>79.000000</td>\n      <td>1.220000e+07</td>\n      <td>2017.000000</td>\n    </tr>\n    <tr>\n      <th>max</th>\n      <td>97.000000</td>\n      <td>4.023176e+07</td>\n      <td>2019.000000</td>\n    </tr>\n  </tbody>\n</table>\n</div>"
          },
          "metadata": {}
        }
      ],
      "execution_count": 4,
      "metadata": {
        "collapsed": true,
        "jupyter": {
          "source_hidden": false,
          "outputs_hidden": false
        },
        "nteract": {
          "transient": {
            "deleting": false
          }
        },
        "gather": {
          "logged": 1612135492298
        }
      }
    },
    {
      "cell_type": "markdown",
      "source": [
        "Podział dane na uczące i testujące."
      ],
      "metadata": {
        "nteract": {
          "transient": {
            "deleting": false
          }
        }
      }
    },
    {
      "cell_type": "code",
      "source": [
        "train_dataset, test_dataset = aml_dataset.random_split(0.9, seed=1)\r\n",
        "\r\n",
        "train_dataset_df = train_dataset.to_pandas_dataframe()\r\n",
        "test_dataset_df = test_dataset.to_pandas_dataframe()\r\n",
        "\r\n",
        "print(train_dataset_df.describe())"
      ],
      "outputs": [
        {
          "output_type": "stream",
          "name": "stdout",
          "text": [
            "           rating        salary   draft_year\n",
            "count  383.000000  3.830000e+02   383.000000\n",
            "mean    76.543081  8.546792e+06  2014.054830\n",
            "std      5.758908  9.270938e+06     4.014323\n",
            "min     67.000000  7.956800e+04  2001.000000\n",
            "25%     72.000000  2.028594e+06  2011.000000\n",
            "50%     75.000000  4.380120e+06  2015.000000\n",
            "75%     79.000000  1.227284e+07  2017.000000\n",
            "max     97.000000  4.023176e+07  2019.000000\n"
          ]
        }
      ],
      "execution_count": 5,
      "metadata": {
        "collapsed": true,
        "jupyter": {
          "source_hidden": false,
          "outputs_hidden": false
        },
        "nteract": {
          "transient": {
            "deleting": false
          }
        },
        "gather": {
          "logged": 1612135493574
        }
      }
    },
    {
      "cell_type": "markdown",
      "source": [
        "Listowanie danych konfigu danych związanych z Compute instances, compute clasters itd."
      ],
      "metadata": {
        "nteract": {
          "transient": {
            "deleting": false
          }
        }
      }
    },
    {
      "cell_type": "code",
      "source": [
        "from azureml.core.compute import AmlCompute\r\n",
        "from azureml.core.compute import ComputeTarget\r\n",
        "\r\n",
        "ComputeTarget.list(ws)"
      ],
      "outputs": [
        {
          "output_type": "execute_result",
          "execution_count": 6,
          "data": {
            "text/plain": "[{\n   \"id\": \"/subscriptions/ba3b040d-bcca-454d-ba76-707db0d50dff/resourceGroups/lab_3/providers/Microsoft.MachineLearningServices/workspaces/lab_3_ml/computes/CI-ML\",\n   \"name\": \"CI-ML\",\n   \"location\": \"westeurope\",\n   \"tags\": null,\n   \"properties\": {\n     \"description\": null,\n     \"computeType\": \"ComputeInstance\",\n     \"computeLocation\": \"westeurope\",\n     \"resourceId\": null,\n     \"provisioningErrors\": null,\n     \"provisioningState\": \"Succeeded\",\n     \"properties\": {\n       \"vmSize\": \"STANDARD_DS11_V2\",\n       \"applications\": [\n         {\n           \"displayName\": \"Jupyter\",\n           \"endpointUri\": \"https://ci-ml.westeurope.instances.azureml.ms\"\n         },\n         {\n           \"displayName\": \"Jupyter Lab\",\n           \"endpointUri\": \"https://ci-ml.westeurope.instances.azureml.ms/lab\"\n         },\n         {\n           \"displayName\": \"RStudio\",\n           \"endpointUri\": \"https://ci-ml-8787.westeurope.instances.azureml.ms\"\n         }\n       ],\n       \"connectivityEndpoints\": {\n         \"publicIpAddress\": \"20.71.74.175\",\n         \"privateIpAddress\": \"10.0.0.5\"\n       },\n       \"sshSettings\": {\n         \"sshPublicAccess\": \"Disabled\",\n         \"adminUserName\": \"azureuser\",\n         \"adminPublicKey\": null,\n         \"sshPort\": 4001\n       },\n       \"personalComputeInstanceSettings\": null,\n       \"subnet\": {\n         \"id\": null\n       },\n       \"errors\": []\n     },\n     \"status\": {\n       \"errors\": [],\n       \"creationTime\": \"2021-01-31T10:49:03.754956+00:00\",\n       \"createdBy\": {\n         \"userObjectId\": \"40a0f6e2-0a30-4e39-9194-e78ed095911e\",\n         \"userTenantId\": \"97de3403-8fba-4645-9b46-29096f21e969\",\n         \"userName\": \"B\\u0142a\\u017cej Szczepanowski\"\n       },\n       \"modifiedTime\": \"2021-01-31T10:51:50.309361+00:00\",\n       \"state\": \"Running\",\n       \"vmSize\": \"STANDARD_DS11_V2\"\n     }\n   }\n },\n AmlCompute(workspace=Workspace.create(name='lab_3_ml', subscription_id='ba3b040d-bcca-454d-ba76-707db0d50dff', resource_group='lab_3'), name=CC-AutoML, id=/subscriptions/ba3b040d-bcca-454d-ba76-707db0d50dff/resourceGroups/lab_3/providers/Microsoft.MachineLearningServices/workspaces/lab_3_ml/computes/CC-AutoML, type=AmlCompute, provisioning_state=Succeeded, location=westeurope, tags=None)]"
          },
          "metadata": {}
        }
      ],
      "execution_count": 6,
      "metadata": {
        "collapsed": true,
        "jupyter": {
          "source_hidden": false,
          "outputs_hidden": false
        },
        "nteract": {
          "transient": {
            "deleting": false
          }
        },
        "gather": {
          "logged": 1612135493918
        }
      }
    },
    {
      "cell_type": "markdown",
      "source": [
        "Łączenie ze zdalnym AML Compute"
      ],
      "metadata": {
        "nteract": {
          "transient": {
            "deleting": false
          }
        }
      }
    },
    {
      "cell_type": "code",
      "source": [
        "amlcompute_cluster_name = \"CC-AutoML\"\r\n",
        "\r\n",
        "found = False\r\n",
        "# Check if this compute target already exists in the workspace.\r\n",
        "cts = ws.compute_targets\r\n",
        "\r\n",
        "if amlcompute_cluster_name in cts and cts[amlcompute_cluster_name].type == 'AmlCompute':\r\n",
        "     found = True\r\n",
        "     print('Found existing training cluster.')\r\n",
        "     # Get existing cluster\r\n",
        "     aml_remote_compute = cts[amlcompute_cluster_name]\r\n",
        "        \r\n",
        "print('Checking cluster status...')\r\n",
        "aml_remote_compute.wait_for_completion(show_output = True, min_node_count = 0, timeout_in_minutes = 20)"
      ],
      "outputs": [
        {
          "output_type": "stream",
          "name": "stdout",
          "text": [
            "Found existing training cluster.\n",
            "Checking cluster status...\n",
            "Succeeded\n",
            "AmlCompute wait for completion finished\n",
            "\n",
            "Minimum number of nodes requested have been provisioned\n"
          ]
        }
      ],
      "execution_count": 7,
      "metadata": {
        "collapsed": true,
        "jupyter": {
          "source_hidden": false,
          "outputs_hidden": false
        },
        "nteract": {
          "transient": {
            "deleting": false
          }
        },
        "gather": {
          "logged": 1612135494180
        }
      }
    },
    {
      "cell_type": "code",
      "source": [
        "aml_remote_compute.get_status().serialize()"
      ],
      "outputs": [
        {
          "output_type": "execute_result",
          "execution_count": 8,
          "data": {
            "text/plain": "{'currentNodeCount': 1,\n 'targetNodeCount': 1,\n 'nodeStateCounts': {'preparingNodeCount': 0,\n  'runningNodeCount': 1,\n  'idleNodeCount': 0,\n  'unusableNodeCount': 0,\n  'leavingNodeCount': 0,\n  'preemptedNodeCount': 0},\n 'allocationState': 'Steady',\n 'allocationStateTransitionTime': '2021-01-31T20:50:54.217000+00:00',\n 'errors': None,\n 'creationTime': '2021-01-31T17:35:45.431912+00:00',\n 'modifiedTime': '2021-01-31T17:36:01.293665+00:00',\n 'provisioningState': 'Succeeded',\n 'provisioningStateTransitionTime': None,\n 'scaleSettings': {'minNodeCount': 1,\n  'maxNodeCount': 2,\n  'nodeIdleTimeBeforeScaleDown': 'PT120S'},\n 'vmPriority': 'Dedicated',\n 'vmSize': 'STANDARD_DS12_V2'}"
          },
          "metadata": {}
        }
      ],
      "execution_count": 8,
      "metadata": {
        "collapsed": true,
        "jupyter": {
          "source_hidden": false,
          "outputs_hidden": false
        },
        "nteract": {
          "transient": {
            "deleting": false
          }
        },
        "gather": {
          "logged": 1612135494396
        }
      }
    },
    {
      "cell_type": "markdown",
      "source": [
        "Uzyskanie dostępnych metod wyliczenia regresji, kod pomocniczy aby uzystać nazwę potrzebną w następnym klastrze kodu."
      ],
      "metadata": {
        "nteract": {
          "transient": {
            "deleting": false
          }
        }
      }
    },
    {
      "cell_type": "code",
      "source": [
        "from azureml.train import automl\r\n",
        "# Get a list of valid metrics for your given task\r\n",
        "automl.utilities.get_primary_metrics('regression')"
      ],
      "outputs": [
        {
          "output_type": "execute_result",
          "execution_count": 14,
          "data": {
            "text/plain": "['normalized_root_mean_squared_error',\n 'r2_score',\n 'normalized_mean_absolute_error',\n 'spearman_correlation']"
          },
          "metadata": {}
        }
      ],
      "execution_count": 14,
      "metadata": {
        "collapsed": true,
        "jupyter": {
          "source_hidden": false,
          "outputs_hidden": false
        },
        "nteract": {
          "transient": {
            "deleting": false
          }
        },
        "gather": {
          "logged": 1612138042423
        }
      }
    },
    {
      "cell_type": "markdown",
      "source": [
        "Definiowanie AutoML ustawień eksperymentu, dane wykorzystane m.in z kodu powyżej, jak i określenie jaka kolumna jest targetem, maksymalny czas obliczeń."
      ],
      "metadata": {
        "nteract": {
          "transient": {
            "deleting": false
          }
        }
      }
    },
    {
      "cell_type": "code",
      "source": [
        "import logging\r\n",
        "import os\r\n",
        "\r\n",
        "from azureml.train.automl import AutoMLConfig\r\n",
        "\r\n",
        "project_folder = './projekt_lab_3'\r\n",
        "os.makedirs(project_folder, exist_ok=True)\r\n",
        "\r\n",
        "automl_config = AutoMLConfig(compute_target=aml_remote_compute,\r\n",
        "                             task='regression',\r\n",
        "                             primary_metric='normalized_root_mean_squared_error',\r\n",
        "                             experiment_timeout_minutes=40,                            \r\n",
        "                             training_data=train_dataset,\r\n",
        "                             label_column_name=\"salary\",\r\n",
        "                             n_cross_validations=5,                                                 \r\n",
        "                             enable_early_stopping=True,\r\n",
        "                             featurization='auto',\r\n",
        "                             debug_log='automated_ml_errors.log',\r\n",
        "                             verbosity=logging.INFO,\r\n",
        "                             path=project_folder\r\n",
        "                             )"
      ],
      "outputs": [],
      "execution_count": 9,
      "metadata": {
        "collapsed": true,
        "jupyter": {
          "source_hidden": false,
          "outputs_hidden": false
        },
        "nteract": {
          "transient": {
            "deleting": false
          }
        },
        "gather": {
          "logged": 1612135494907
        }
      }
    },
    {
      "cell_type": "markdown",
      "source": [
        "Przeprowadzenie eksperymentu oraz kod obserwujący czas wykonywanych obliczeń."
      ],
      "metadata": {
        "nteract": {
          "transient": {
            "deleting": false
          }
        }
      }
    },
    {
      "cell_type": "code",
      "source": [
        "from azureml.core import Experiment\r\n",
        "from datetime import datetime\r\n",
        "\r\n",
        "now = datetime.now()\r\n",
        "time_string = now.strftime(\"%m-%d-%Y-%H\")\r\n",
        "experiment_name = \"ipynb-experiment-{0}\".format(time_string)\r\n",
        "print(experiment_name)\r\n",
        "\r\n",
        "experiment = Experiment(workspace=ws, name=experiment_name)\r\n",
        "\r\n",
        "import time\r\n",
        "start_time = time.time()\r\n",
        "            \r\n",
        "run = experiment.submit(automl_config, show_output=True)\r\n",
        "\r\n",
        "print('Manual run timing: --- %s seconds needed for running the whole Remote AutoML Experiment ---' % (time.time() - start_time))"
      ],
      "outputs": [
        {
          "output_type": "stream",
          "name": "stdout",
          "text": [
            "ipynb-experiment-01-31-2021-23\n",
            "Running on remote.\n",
            "No run_configuration provided, running on CC-AutoML with default configuration\n",
            "Running on remote compute: CC-AutoML\n",
            "Parent Run ID: AutoML_2be82eef-3aa8-4e38-bccb-b32fef140c2c\n",
            "\n",
            "Current status: FeaturesGeneration. Generating features for the dataset.\n",
            "Current status: DatasetCrossValidationSplit. Generating individually featurized CV splits.\n",
            "Current status: ModelSelection. Beginning model selection.\n",
            "\n",
            "****************************************************************************************************\n",
            "DATA GUARDRAILS: \n",
            "\n",
            "TYPE:         Missing feature values imputation\n",
            "STATUS:       DONE\n",
            "DESCRIPTION:  If the missing values are expected, let the run complete. Otherwise cancel the current run and use a script to customize the handling of missing feature values that may be more appropriate based on the data type and business requirement.\n",
            "              Learn more about missing value imputation: https://aka.ms/AutomatedMLFeaturization\n",
            "DETAILS:      \n",
            "+---------------------------------+---------------------------------+\n",
            "|Column name                      |Missing value count              |\n",
            "+=================================+=================================+\n",
            "|team                             |17                               |\n",
            "|college                          |60                               |\n",
            "+---------------------------------+---------------------------------+\n",
            "\n",
            "****************************************************************************************************\n",
            "\n",
            "TYPE:         High cardinality feature detection\n",
            "STATUS:       DONE\n",
            "DESCRIPTION:  High cardinality features were detected in your inputs and handled.\n",
            "              Learn more about high cardinality feature handling: https://aka.ms/AutomatedMLFeaturization\n",
            "DETAILS:      High cardinality features refer to columns that contain a large percentage of unique values.\n",
            "+---------------------------------+---------------------------------+\n",
            "|Column name                      |Column Content Type              |\n",
            "+=================================+=================================+\n",
            "|full_name                        |text                             |\n",
            "|team                             |categorical_hash                 |\n",
            "|height                           |categorical_hash                 |\n",
            "|weight                           |categorical_hash                 |\n",
            "|country                          |categorical_hash                 |\n",
            "|draft_peak                       |categorical_hash                 |\n",
            "|college                          |categorical_hash                 |\n",
            "+---------------------------------+---------------------------------+\n",
            "\n",
            "****************************************************************************************************\n",
            "\n",
            "****************************************************************************************************\n",
            "ITERATION: The iteration being evaluated.\n",
            "PIPELINE: A summary description of the pipeline being evaluated.\n",
            "DURATION: Time taken for the current iteration.\n",
            "METRIC: The result of computing score on the fitted pipeline.\n",
            "BEST: The best observed score thus far.\n",
            "****************************************************************************************************\n",
            "\n",
            " ITERATION   PIPELINE                                       DURATION      METRIC      BEST\n",
            "         0   MaxAbsScaler LightGBM                          0:00:56       0.1348    0.1348\n",
            "         1   MaxAbsScaler XGBoostRegressor                  0:00:54       0.1332    0.1332\n",
            "         2   StandardScalerWrapper ElasticNet               0:01:03       0.2076    0.1332\n",
            "         3   MaxAbsScaler DecisionTree                      0:00:48       0.1461    0.1332\n",
            "         4   MaxAbsScaler ElasticNet                        0:01:01       0.1985    0.1332\n",
            "         5   MaxAbsScaler DecisionTree                      0:00:42       0.1478    0.1332\n",
            "         6   MaxAbsScaler DecisionTree                      0:00:54       0.1696    0.1332\n",
            "         7   MaxAbsScaler DecisionTree                      0:00:51       0.1564    0.1332\n",
            "         8   MaxAbsScaler DecisionTree                      0:00:42       0.1500    0.1332\n",
            "         9   MaxAbsScaler DecisionTree                      0:00:45       0.1620    0.1332\n",
            "        10   MaxAbsScaler DecisionTree                      0:00:48       0.1427    0.1332\n",
            "        11   MaxAbsScaler DecisionTree                      0:00:51       0.1770    0.1332\n",
            "        12   MaxAbsScaler DecisionTree                      0:00:51       0.1464    0.1332\n",
            "        13   StandardScalerWrapper DecisionTree             0:00:39       0.1618    0.1332\n",
            "        14   MaxAbsScaler DecisionTree                      0:00:48       0.1426    0.1332\n",
            "        15   MaxAbsScaler DecisionTree                      0:00:48       0.1555    0.1332\n",
            "        16   MaxAbsScaler SGD                               0:00:48       0.1960    0.1332\n",
            "        17   MaxAbsScaler DecisionTree                      0:00:53       0.1647    0.1332\n",
            "        18   MaxAbsScaler DecisionTree                      0:00:45       0.1449    0.1332\n",
            "        19   MaxAbsScaler DecisionTree                      0:00:45       0.1541    0.1332\n",
            "        20   MaxAbsScaler SGD                               0:00:48       0.1929    0.1332\n",
            "        21   MaxAbsScaler DecisionTree                      0:00:39       0.1598    0.1332\n",
            "        22   MaxAbsScaler DecisionTree                      0:00:45       0.1562    0.1332\n",
            "        23   MaxAbsScaler RandomForest                      0:00:57       0.1388    0.1332\n",
            "        24   MaxAbsScaler GradientBoosting                  0:01:03       0.1523    0.1332\n",
            "        25   TruncatedSVDWrapper XGBoostRegressor           0:01:26       0.1507    0.1332\n",
            "        26   MaxAbsScaler DecisionTree                      0:00:48       0.1561    0.1332\n",
            "        27   MaxAbsScaler LightGBM                          0:00:45       0.1461    0.1332\n",
            "        28   MaxAbsScaler DecisionTree                      0:00:44       0.1591    0.1332\n",
            "        29   MaxAbsScaler ExtremeRandomTrees                0:00:50       0.1374    0.1332\n",
            "        30    VotingEnsemble                                0:01:23       0.1263    0.1263\n",
            "        31    StackEnsemble                                 0:01:19       0.1307    0.1263\n",
            "Manual run timing: --- 2484.8758130073547 seconds needed for running the whole Remote AutoML Experiment ---\n"
          ]
        }
      ],
      "execution_count": 10,
      "metadata": {
        "collapsed": true,
        "jupyter": {
          "source_hidden": false,
          "outputs_hidden": false
        },
        "nteract": {
          "transient": {
            "deleting": false
          }
        },
        "gather": {
          "logged": 1612137979975
        }
      }
    },
    {
      "cell_type": "markdown",
      "source": [
        "W tym miejscu napotkano błąd w którym notebook nie potrafi poprawnie uruchomić widgetu. Edytor sugeruje, że widgets nie jest częścią azureml, \r\n",
        "co (po sprawdzeniu) jest niezgodne z dokumentacją azura (przeprowadzano również akutalizacje paczek)."
      ],
      "metadata": {
        "nteract": {
          "transient": {
            "deleting": false
          }
        }
      }
    },
    {
      "cell_type": "code",
      "source": [
        "from azureml.widgets import RunDetails\r\n",
        "RunDetails(run).show()"
      ],
      "outputs": [
        {
          "output_type": "display_data",
          "data": {
            "text/plain": "_AutoMLWidget(widget_settings={'childWidgetDisplay': 'popup', 'send_telemetry': False, 'log_level': 'INFO', 's…",
            "application/vnd.jupyter.widget-view+json": {
              "version_major": 2,
              "version_minor": 0,
              "model_id": "052ae13ad8234c3c95b60ecf558444f1"
            }
          },
          "metadata": {}
        },
        {
          "output_type": "display_data",
          "data": {
            "application/aml.mini.widget.v1": "{\"status\": \"Completed\", \"workbench_run_details_uri\": \"https://ml.azure.com/experiments/ipynb-experiment-01-31-2021-23/runs/AutoML_2be82eef-3aa8-4e38-bccb-b32fef140c2c?wsid=/subscriptions/ba3b040d-bcca-454d-ba76-707db0d50dff/resourcegroups/lab_3/workspaces/lab_3_ml\", \"run_id\": \"AutoML_2be82eef-3aa8-4e38-bccb-b32fef140c2c\", \"run_properties\": {\"run_id\": \"AutoML_2be82eef-3aa8-4e38-bccb-b32fef140c2c\", \"created_utc\": \"2021-01-31T23:24:56.659277Z\", \"properties\": {\"num_iterations\": \"1000\", \"training_type\": \"TrainFull\", \"acquisition_function\": \"EI\", \"primary_metric\": \"normalized_root_mean_squared_error\", \"train_split\": \"0\", \"acquisition_parameter\": \"0\", \"num_cross_validation\": \"5\", \"target\": \"CC-AutoML\", \"AMLSettingsJsonString\": \"{\\\"path\\\":null,\\\"name\\\":\\\"ipynb-experiment-01-31-2021-23\\\",\\\"subscription_id\\\":\\\"ba3b040d-bcca-454d-ba76-707db0d50dff\\\",\\\"resource_group\\\":\\\"lab_3\\\",\\\"workspace_name\\\":\\\"lab_3_ml\\\",\\\"region\\\":\\\"westeurope\\\",\\\"compute_target\\\":\\\"CC-AutoML\\\",\\\"spark_service\\\":null,\\\"azure_service\\\":\\\"remote\\\",\\\"many_models\\\":false,\\\"pipeline_fetch_max_batch_size\\\":1,\\\"iterations\\\":1000,\\\"primary_metric\\\":\\\"normalized_root_mean_squared_error\\\",\\\"task_type\\\":\\\"regression\\\",\\\"data_script\\\":null,\\\"validation_size\\\":0.0,\\\"n_cross_validations\\\":5,\\\"y_min\\\":null,\\\"y_max\\\":null,\\\"num_classes\\\":null,\\\"featurization\\\":\\\"auto\\\",\\\"_ignore_package_version_incompatibilities\\\":false,\\\"is_timeseries\\\":false,\\\"max_cores_per_iteration\\\":1,\\\"max_concurrent_iterations\\\":1,\\\"iteration_timeout_minutes\\\":null,\\\"mem_in_mb\\\":null,\\\"enforce_time_on_windows\\\":false,\\\"experiment_timeout_minutes\\\":40,\\\"experiment_exit_score\\\":null,\\\"whitelist_models\\\":null,\\\"blacklist_algos\\\":[\\\"TensorFlowDNN\\\",\\\"TensorFlowLinearRegressor\\\"],\\\"supported_models\\\":[\\\"FastLinearRegressor\\\",\\\"LassoLars\\\",\\\"SGD\\\",\\\"LightGBM\\\",\\\"OnlineGradientDescentRegressor\\\",\\\"GradientBoosting\\\",\\\"TensorFlowDNN\\\",\\\"KNN\\\",\\\"DecisionTree\\\",\\\"ElasticNet\\\",\\\"RandomForest\\\",\\\"TensorFlowLinearRegressor\\\",\\\"ExtremeRandomTrees\\\",\\\"XGBoostRegressor\\\"],\\\"auto_blacklist\\\":true,\\\"blacklist_samples_reached\\\":false,\\\"exclude_nan_labels\\\":true,\\\"verbosity\\\":20,\\\"_debug_log\\\":\\\"azureml_automl.log\\\",\\\"show_warnings\\\":false,\\\"model_explainability\\\":true,\\\"service_url\\\":null,\\\"sdk_url\\\":null,\\\"sdk_packages\\\":null,\\\"enable_onnx_compatible_models\\\":false,\\\"enable_split_onnx_featurizer_estimator_models\\\":false,\\\"vm_type\\\":\\\"STANDARD_DS12_V2\\\",\\\"telemetry_verbosity\\\":20,\\\"send_telemetry\\\":true,\\\"enable_dnn\\\":false,\\\"scenario\\\":\\\"SDK-1.13.0\\\",\\\"environment_label\\\":null,\\\"force_text_dnn\\\":false,\\\"enable_feature_sweeping\\\":true,\\\"enable_early_stopping\\\":true,\\\"early_stopping_n_iters\\\":10,\\\"metrics\\\":null,\\\"enable_ensembling\\\":true,\\\"enable_stack_ensembling\\\":true,\\\"ensemble_iterations\\\":15,\\\"enable_tf\\\":false,\\\"enable_subsampling\\\":null,\\\"subsample_seed\\\":null,\\\"enable_nimbusml\\\":false,\\\"enable_streaming\\\":false,\\\"force_streaming\\\":false,\\\"track_child_runs\\\":true,\\\"allowed_private_models\\\":[],\\\"label_column_name\\\":\\\"salary\\\",\\\"weight_column_name\\\":null,\\\"cv_split_column_names\\\":null,\\\"enable_local_managed\\\":false,\\\"_local_managed_run_id\\\":null,\\\"cost_mode\\\":1,\\\"lag_length\\\":0,\\\"metric_operation\\\":\\\"minimize\\\",\\\"preprocess\\\":true}\", \"DataPrepJsonString\": \"{\\\\\\\"training_data\\\\\\\": \\\\\\\"{\\\\\\\\\\\\\\\"blocks\\\\\\\\\\\\\\\": [{\\\\\\\\\\\\\\\"id\\\\\\\\\\\\\\\": \\\\\\\\\\\\\\\"dbc8d7f4-47f8-438a-b80c-339bc3c705f8\\\\\\\\\\\\\\\", \\\\\\\\\\\\\\\"type\\\\\\\\\\\\\\\": \\\\\\\\\\\\\\\"Microsoft.DPrep.GetDatastoreFilesBlock\\\\\\\\\\\\\\\", \\\\\\\\\\\\\\\"arguments\\\\\\\\\\\\\\\": {\\\\\\\\\\\\\\\"datastores\\\\\\\\\\\\\\\": [{\\\\\\\\\\\\\\\"datastoreName\\\\\\\\\\\\\\\": \\\\\\\\\\\\\\\"workspaceblobstore\\\\\\\\\\\\\\\", \\\\\\\\\\\\\\\"path\\\\\\\\\\\\\\\": \\\\\\\\\\\\\\\"UI/01-31-2021_072802_UTC/nba2k20-full.csv\\\\\\\\\\\\\\\", \\\\\\\\\\\\\\\"resourceGroup\\\\\\\\\\\\\\\": \\\\\\\\\\\\\\\"lab_3\\\\\\\\\\\\\\\", \\\\\\\\\\\\\\\"subscription\\\\\\\\\\\\\\\": \\\\\\\\\\\\\\\"ba3b040d-bcca-454d-ba76-707db0d50dff\\\\\\\\\\\\\\\", \\\\\\\\\\\\\\\"workspaceName\\\\\\\\\\\\\\\": \\\\\\\\\\\\\\\"lab_3_ML\\\\\\\\\\\\\\\"}]}, \\\\\\\\\\\\\\\"localData\\\\\\\\\\\\\\\": {}, \\\\\\\\\\\\\\\"isEnabled\\\\\\\\\\\\\\\": true, \\\\\\\\\\\\\\\"name\\\\\\\\\\\\\\\": null, \\\\\\\\\\\\\\\"annotation\\\\\\\\\\\\\\\": null}, {\\\\\\\\\\\\\\\"id\\\\\\\\\\\\\\\": \\\\\\\\\\\\\\\"f95c8e4e-53ee-443b-9a06-f9845307ae18\\\\\\\\\\\\\\\", \\\\\\\\\\\\\\\"type\\\\\\\\\\\\\\\": \\\\\\\\\\\\\\\"Microsoft.DPrep.ParseDelimitedBlock\\\\\\\\\\\\\\\", \\\\\\\\\\\\\\\"arguments\\\\\\\\\\\\\\\": {\\\\\\\\\\\\\\\"columnHeadersMode\\\\\\\\\\\\\\\": 1, \\\\\\\\\\\\\\\"fileEncoding\\\\\\\\\\\\\\\": 0, \\\\\\\\\\\\\\\"handleQuotedLineBreaks\\\\\\\\\\\\\\\": false, \\\\\\\\\\\\\\\"preview\\\\\\\\\\\\\\\": false, \\\\\\\\\\\\\\\"separator\\\\\\\\\\\\\\\": \\\\\\\\\\\\\\\",\\\\\\\\\\\\\\\", \\\\\\\\\\\\\\\"skipRows\\\\\\\\\\\\\\\": 0, \\\\\\\\\\\\\\\"skipRowsMode\\\\\\\\\\\\\\\": 0}, \\\\\\\\\\\\\\\"localData\\\\\\\\\\\\\\\": {}, \\\\\\\\\\\\\\\"isEnabled\\\\\\\\\\\\\\\": true, \\\\\\\\\\\\\\\"name\\\\\\\\\\\\\\\": null, \\\\\\\\\\\\\\\"annotation\\\\\\\\\\\\\\\": null}, {\\\\\\\\\\\\\\\"id\\\\\\\\\\\\\\\": \\\\\\\\\\\\\\\"d475476f-2c92-42da-a072-c0076e8b87d9\\\\\\\\\\\\\\\", \\\\\\\\\\\\\\\"type\\\\\\\\\\\\\\\": \\\\\\\\\\\\\\\"Microsoft.DPrep.DropColumnsBlock\\\\\\\\\\\\\\\", \\\\\\\\\\\\\\\"arguments\\\\\\\\\\\\\\\": {\\\\\\\\\\\\\\\"columns\\\\\\\\\\\\\\\": {\\\\\\\\\\\\\\\"type\\\\\\\\\\\\\\\": 0, \\\\\\\\\\\\\\\"details\\\\\\\\\\\\\\\": {\\\\\\\\\\\\\\\"selectedColumns\\\\\\\\\\\\\\\": [\\\\\\\\\\\\\\\"Path\\\\\\\\\\\\\\\", \\\\\\\\\\\\\\\"jersey\\\\\\\\\\\\\\\"]}}}, \\\\\\\\\\\\\\\"localData\\\\\\\\\\\\\\\": {}, \\\\\\\\\\\\\\\"isEnabled\\\\\\\\\\\\\\\": true, \\\\\\\\\\\\\\\"name\\\\\\\\\\\\\\\": null, \\\\\\\\\\\\\\\"annotation\\\\\\\\\\\\\\\": null}, {\\\\\\\\\\\\\\\"id\\\\\\\\\\\\\\\": \\\\\\\\\\\\\\\"7ce81dda-08ef-4374-a0a3-5c630afc2936\\\\\\\\\\\\\\\", \\\\\\\\\\\\\\\"type\\\\\\\\\\\\\\\": \\\\\\\\\\\\\\\"Microsoft.DPrep.SetColumnTypesBlock\\\\\\\\\\\\\\\", \\\\\\\\\\\\\\\"arguments\\\\\\\\\\\\\\\": {\\\\\\\\\\\\\\\"columnConversion\\\\\\\\\\\\\\\": [{\\\\\\\\\\\\\\\"column\\\\\\\\\\\\\\\": {\\\\\\\\\\\\\\\"type\\\\\\\\\\\\\\\": 2, \\\\\\\\\\\\\\\"details\\\\\\\\\\\\\\\": {\\\\\\\\\\\\\\\"selectedColumn\\\\\\\\\\\\\\\": \\\\\\\\\\\\\\\"Path\\\\\\\\\\\\\\\"}}, \\\\\\\\\\\\\\\"typeProperty\\\\\\\\\\\\\\\": 0}, {\\\\\\\\\\\\\\\"column\\\\\\\\\\\\\\\": {\\\\\\\\\\\\\\\"type\\\\\\\\\\\\\\\": 2, \\\\\\\\\\\\\\\"details\\\\\\\\\\\\\\\": {\\\\\\\\\\\\\\\"selectedColumn\\\\\\\\\\\\\\\": \\\\\\\\\\\\\\\"full_name\\\\\\\\\\\\\\\"}}, \\\\\\\\\\\\\\\"typeProperty\\\\\\\\\\\\\\\": 0}, {\\\\\\\\\\\\\\\"column\\\\\\\\\\\\\\\": {\\\\\\\\\\\\\\\"type\\\\\\\\\\\\\\\": 2, \\\\\\\\\\\\\\\"details\\\\\\\\\\\\\\\": {\\\\\\\\\\\\\\\"selectedColumn\\\\\\\\\\\\\\\": \\\\\\\\\\\\\\\"rating\\\\\\\\\\\\\\\"}}, \\\\\\\\\\\\\\\"typeProperty\\\\\\\\\\\\\\\": 2}, {\\\\\\\\\\\\\\\"column\\\\\\\\\\\\\\\": {\\\\\\\\\\\\\\\"type\\\\\\\\\\\\\\\": 2, \\\\\\\\\\\\\\\"details\\\\\\\\\\\\\\\": {\\\\\\\\\\\\\\\"selectedColumn\\\\\\\\\\\\\\\": \\\\\\\\\\\\\\\"jersey\\\\\\\\\\\\\\\"}}, \\\\\\\\\\\\\\\"typeProperty\\\\\\\\\\\\\\\": 0}, {\\\\\\\\\\\\\\\"column\\\\\\\\\\\\\\\": {\\\\\\\\\\\\\\\"type\\\\\\\\\\\\\\\": 2, \\\\\\\\\\\\\\\"details\\\\\\\\\\\\\\\": {\\\\\\\\\\\\\\\"selectedColumn\\\\\\\\\\\\\\\": \\\\\\\\\\\\\\\"team\\\\\\\\\\\\\\\"}}, \\\\\\\\\\\\\\\"typeProperty\\\\\\\\\\\\\\\": 0}, {\\\\\\\\\\\\\\\"column\\\\\\\\\\\\\\\": {\\\\\\\\\\\\\\\"type\\\\\\\\\\\\\\\": 2, \\\\\\\\\\\\\\\"details\\\\\\\\\\\\\\\": {\\\\\\\\\\\\\\\"selectedColumn\\\\\\\\\\\\\\\": \\\\\\\\\\\\\\\"position\\\\\\\\\\\\\\\"}}, \\\\\\\\\\\\\\\"typeProperty\\\\\\\\\\\\\\\": 0}, {\\\\\\\\\\\\\\\"column\\\\\\\\\\\\\\\": {\\\\\\\\\\\\\\\"type\\\\\\\\\\\\\\\": 2, \\\\\\\\\\\\\\\"details\\\\\\\\\\\\\\\": {\\\\\\\\\\\\\\\"selectedColumn\\\\\\\\\\\\\\\": \\\\\\\\\\\\\\\"b_day\\\\\\\\\\\\\\\"}}, \\\\\\\\\\\\\\\"typeArguments\\\\\\\\\\\\\\\": {\\\\\\\\\\\\\\\"dateTimeFormats\\\\\\\\\\\\\\\": [\\\\\\\\\\\\\\\"%m/%d/%y\\\\\\\\\\\\\\\"]}, \\\\\\\\\\\\\\\"typeProperty\\\\\\\\\\\\\\\": 4}, {\\\\\\\\\\\\\\\"column\\\\\\\\\\\\\\\": {\\\\\\\\\\\\\\\"type\\\\\\\\\\\\\\\": 2, \\\\\\\\\\\\\\\"details\\\\\\\\\\\\\\\": {\\\\\\\\\\\\\\\"selectedColumn\\\\\\\\\\\\\\\": \\\\\\\\\\\\\\\"height\\\\\\\\\\\\\\\"}}, \\\\\\\\\\\\\\\"typeProperty\\\\\\\\\\\\\\\": 0}, {\\\\\\\\\\\\\\\"column\\\\\\\\\\\\\\\": {\\\\\\\\\\\\\\\"type\\\\\\\\\\\\\\\": 2, \\\\\\\\\\\\\\\"details\\\\\\\\\\\\\\\": {\\\\\\\\\\\\\\\"selectedColumn\\\\\\\\\\\\\\\": \\\\\\\\\\\\\\\"weight\\\\\\\\\\\\\\\"}}, \\\\\\\\\\\\\\\"typeProperty\\\\\\\\\\\\\\\": 0}, {\\\\\\\\\\\\\\\"column\\\\\\\\\\\\\\\": {\\\\\\\\\\\\\\\"type\\\\\\\\\\\\\\\": 2, \\\\\\\\\\\\\\\"details\\\\\\\\\\\\\\\": {\\\\\\\\\\\\\\\"selectedColumn\\\\\\\\\\\\\\\": \\\\\\\\\\\\\\\"salary\\\\\\\\\\\\\\\"}}, \\\\\\\\\\\\\\\"typeProperty\\\\\\\\\\\\\\\": 2}, {\\\\\\\\\\\\\\\"column\\\\\\\\\\\\\\\": {\\\\\\\\\\\\\\\"type\\\\\\\\\\\\\\\": 2, \\\\\\\\\\\\\\\"details\\\\\\\\\\\\\\\": {\\\\\\\\\\\\\\\"selectedColumn\\\\\\\\\\\\\\\": \\\\\\\\\\\\\\\"country\\\\\\\\\\\\\\\"}}, \\\\\\\\\\\\\\\"typeProperty\\\\\\\\\\\\\\\": 0}, {\\\\\\\\\\\\\\\"column\\\\\\\\\\\\\\\": {\\\\\\\\\\\\\\\"type\\\\\\\\\\\\\\\": 2, \\\\\\\\\\\\\\\"details\\\\\\\\\\\\\\\": {\\\\\\\\\\\\\\\"selectedColumn\\\\\\\\\\\\\\\": \\\\\\\\\\\\\\\"draft_year\\\\\\\\\\\\\\\"}}, \\\\\\\\\\\\\\\"typeProperty\\\\\\\\\\\\\\\": 2}, {\\\\\\\\\\\\\\\"column\\\\\\\\\\\\\\\": {\\\\\\\\\\\\\\\"type\\\\\\\\\\\\\\\": 2, \\\\\\\\\\\\\\\"details\\\\\\\\\\\\\\\": {\\\\\\\\\\\\\\\"selectedColumn\\\\\\\\\\\\\\\": \\\\\\\\\\\\\\\"draft_round\\\\\\\\\\\\\\\"}}, \\\\\\\\\\\\\\\"typeProperty\\\\\\\\\\\\\\\": 0}, {\\\\\\\\\\\\\\\"column\\\\\\\\\\\\\\\": {\\\\\\\\\\\\\\\"type\\\\\\\\\\\\\\\": 2, \\\\\\\\\\\\\\\"details\\\\\\\\\\\\\\\": {\\\\\\\\\\\\\\\"selectedColumn\\\\\\\\\\\\\\\": \\\\\\\\\\\\\\\"draft_peak\\\\\\\\\\\\\\\"}}, \\\\\\\\\\\\\\\"typeProperty\\\\\\\\\\\\\\\": 0}, {\\\\\\\\\\\\\\\"column\\\\\\\\\\\\\\\": {\\\\\\\\\\\\\\\"type\\\\\\\\\\\\\\\": 2, \\\\\\\\\\\\\\\"details\\\\\\\\\\\\\\\": {\\\\\\\\\\\\\\\"selectedColumn\\\\\\\\\\\\\\\": \\\\\\\\\\\\\\\"college\\\\\\\\\\\\\\\"}}, \\\\\\\\\\\\\\\"typeProperty\\\\\\\\\\\\\\\": 0}]}, \\\\\\\\\\\\\\\"localData\\\\\\\\\\\\\\\": {}, \\\\\\\\\\\\\\\"isEnabled\\\\\\\\\\\\\\\": true, \\\\\\\\\\\\\\\"name\\\\\\\\\\\\\\\": null, \\\\\\\\\\\\\\\"annotation\\\\\\\\\\\\\\\": null}, {\\\\\\\\\\\\\\\"id\\\\\\\\\\\\\\\": \\\\\\\\\\\\\\\"5088cbb7-9f9c-425f-b8c2-13a1bf61d159\\\\\\\\\\\\\\\", \\\\\\\\\\\\\\\"type\\\\\\\\\\\\\\\": \\\\\\\\\\\\\\\"Microsoft.DPrep.TakeSampleBlock\\\\\\\\\\\\\\\", \\\\\\\\\\\\\\\"arguments\\\\\\\\\\\\\\\": {\\\\\\\\\\\\\\\"probability\\\\\\\\\\\\\\\": 0.9, \\\\\\\\\\\\\\\"probabilityLowerBound\\\\\\\\\\\\\\\": 0.0, \\\\\\\\\\\\\\\"seed\\\\\\\\\\\\\\\": 1}, \\\\\\\\\\\\\\\"localData\\\\\\\\\\\\\\\": {}, \\\\\\\\\\\\\\\"isEnabled\\\\\\\\\\\\\\\": true, \\\\\\\\\\\\\\\"name\\\\\\\\\\\\\\\": null, \\\\\\\\\\\\\\\"annotation\\\\\\\\\\\\\\\": null}], \\\\\\\\\\\\\\\"inspectors\\\\\\\\\\\\\\\": [], \\\\\\\\\\\\\\\"meta\\\\\\\\\\\\\\\": {\\\\\\\\\\\\\\\"savedDatasetId\\\\\\\\\\\\\\\": \\\\\\\\\\\\\\\"00cefba8-fdad-4066-8b84-1d986d600ad0\\\\\\\\\\\\\\\", \\\\\\\\\\\\\\\"datasetType\\\\\\\\\\\\\\\": \\\\\\\\\\\\\\\"tabular\\\\\\\\\\\\\\\", \\\\\\\\\\\\\\\"subscriptionId\\\\\\\\\\\\\\\": \\\\\\\\\\\\\\\"ba3b040d-bcca-454d-ba76-707db0d50dff\\\\\\\\\\\\\\\", \\\\\\\\\\\\\\\"workspaceId\\\\\\\\\\\\\\\": \\\\\\\\\\\\\\\"1a53738c-3e02-4e7e-8ac5-53ab95280a77\\\\\\\\\\\\\\\", \\\\\\\\\\\\\\\"workspaceLocation\\\\\\\\\\\\\\\": \\\\\\\\\\\\\\\"westeurope\\\\\\\\\\\\\\\"}}\\\\\\\", \\\\\\\"activities\\\\\\\": 0}\", \"EnableSubsampling\": null, \"runTemplate\": \"AutoML\", \"azureml.runsource\": \"automl\", \"display_task_type\": \"regression\", \"dependencies_versions\": \"{\\\"azureml-widgets\\\": \\\"1.20.0\\\", \\\"azureml-train\\\": \\\"1.21.0\\\", \\\"azureml-train-restclients-hyperdrive\\\": \\\"1.21.0\\\", \\\"azureml-train-core\\\": \\\"1.21.0\\\", \\\"azureml-train-automl\\\": \\\"1.20.0\\\", \\\"azureml-train-automl-runtime\\\": \\\"1.20.0\\\", \\\"azureml-train-automl-client\\\": \\\"1.21.0\\\", \\\"azureml-tensorboard\\\": \\\"1.20.0\\\", \\\"azureml-telemetry\\\": \\\"1.20.0\\\", \\\"azureml-sdk\\\": \\\"1.21.0\\\", \\\"azureml-samples\\\": \\\"0+unknown\\\", \\\"azureml-pipeline\\\": \\\"1.21.0\\\", \\\"azureml-pipeline-steps\\\": \\\"1.21.0\\\", \\\"azureml-pipeline-core\\\": \\\"1.21.0\\\", \\\"azureml-opendatasets\\\": \\\"1.20.0\\\", \\\"azureml-model-management-sdk\\\": \\\"1.0.1b6.post1\\\", \\\"azureml-mlflow\\\": \\\"1.20.0.post1\\\", \\\"azureml-interpret\\\": \\\"1.20.0\\\", \\\"azureml-explain-model\\\": \\\"1.20.0\\\", \\\"azureml-defaults\\\": \\\"1.20.0\\\", \\\"azureml-dataset-runtime\\\": \\\"1.21.0\\\", \\\"azureml-dataprep\\\": \\\"2.8.2\\\", \\\"azureml-dataprep-rslex\\\": \\\"1.6.0\\\", \\\"azureml-dataprep-native\\\": \\\"28.0.0\\\", \\\"azureml-datadrift\\\": \\\"1.20.0\\\", \\\"azureml-core\\\": \\\"1.20.0\\\", \\\"azureml-contrib-services\\\": \\\"1.20.0\\\", \\\"azureml-contrib-server\\\": \\\"1.20.0\\\", \\\"azureml-contrib-reinforcementlearning\\\": \\\"1.20.0\\\", \\\"azureml-contrib-pipeline-steps\\\": \\\"1.20.0\\\", \\\"azureml-contrib-notebook\\\": \\\"1.20.0\\\", \\\"azureml-contrib-interpret\\\": \\\"1.20.0\\\", \\\"azureml-contrib-gbdt\\\": \\\"1.20.0\\\", \\\"azureml-contrib-fairness\\\": \\\"1.20.0\\\", \\\"azureml-contrib-dataset\\\": \\\"1.20.0\\\", \\\"azureml-cli-common\\\": \\\"1.20.0\\\", \\\"azureml-automl-runtime\\\": \\\"1.20.0\\\", \\\"azureml-automl-core\\\": \\\"1.21.0\\\", \\\"azureml-accel-models\\\": \\\"1.20.0\\\"}\", \"_aml_system_scenario_identification\": \"Remote.Parent\", \"ClientType\": \"SDK\", \"environment_cpu_name\": \"AzureML-AutoML\", \"environment_cpu_label\": \"prod\", \"environment_gpu_name\": \"AzureML-AutoML-GPU\", \"environment_gpu_label\": \"prod\", \"root_attribution\": \"automl\", \"attribution\": \"AutoML\", \"Orchestrator\": \"AutoML\", \"CancelUri\": \"https://westeurope.experiments.azureml.net/jasmine/v1.0/subscriptions/ba3b040d-bcca-454d-ba76-707db0d50dff/resourceGroups/lab_3/providers/Microsoft.MachineLearningServices/workspaces/lab_3_ml/experimentids/c98f1cc4-38d3-495f-892d-91effdc68708/cancel/AutoML_2be82eef-3aa8-4e38-bccb-b32fef140c2c\", \"ClientSdkVersion\": \"1.20.0.post1\", \"snapshotId\": \"00000000-0000-0000-0000-000000000000\", \"SetupRunId\": \"AutoML_2be82eef-3aa8-4e38-bccb-b32fef140c2c_setup\", \"SetupRunContainerId\": \"dcid.AutoML_2be82eef-3aa8-4e38-bccb-b32fef140c2c_setup\", \"FeaturizationRunJsonPath\": \"featurizer_container.json\", \"FeaturizationRunId\": \"AutoML_2be82eef-3aa8-4e38-bccb-b32fef140c2c_featurize\", \"ProblemInfoJsonString\": \"{\\\"dataset_num_categorical\\\": 0, \\\"is_sparse\\\": true, \\\"subsampling\\\": false, \\\"dataset_classes\\\": 279, \\\"dataset_features\\\": 3068, \\\"dataset_samples\\\": 383, \\\"single_frequency_class_detected\\\": false}\", \"ModelExplainRunId\": \"AutoML_2be82eef-3aa8-4e38-bccb-b32fef140c2c_ModelExplain\"}, \"tags\": {\"model_explain_run\": \"best_run\", \"_aml_system_azureml.automlComponent\": \"AutoML\", \"pipeline_id\": \"\", \"score\": \"\", \"predicted_cost\": \"\", \"fit_time\": \"\", \"training_percent\": \"\", \"iteration\": \"\", \"run_preprocessor\": \"\", \"run_algorithm\": \"\", \"dynamic_whitelisting_iterations\": \"<25>;\", \"automl_best_child_run_id\": \"AutoML_2be82eef-3aa8-4e38-bccb-b32fef140c2c_30\", \"model_explain_best_run_child_id\": \"AutoML_2be82eef-3aa8-4e38-bccb-b32fef140c2c_30\"}, \"end_time_utc\": \"2021-02-01T00:06:13.214968Z\", \"status\": \"Completed\", \"log_files\": {}, \"log_groups\": [], \"run_duration\": \"0:41:16\"}, \"child_runs\": [{\"run_id\": \"AutoML_2be82eef-3aa8-4e38-bccb-b32fef140c2c_0\", \"run_number\": 5, \"metric\": null, \"status\": \"Completed\", \"run_type\": \"azureml.scriptrun\", \"training_percent\": \"100\", \"start_time\": \"2021-01-31T23:29:29.799141Z\", \"end_time\": \"2021-01-31T23:30:25.883097Z\", \"created_time\": \"2021-01-31T23:29:19.110395Z\", \"created_time_dt\": \"2021-01-31T23:29:19.110395Z\", \"duration\": \"0:01:06\", \"iteration\": \"0\", \"goal\": \"normalized_root_mean_squared_error_min\", \"run_name\": \"MaxAbsScaler, LightGBM\", \"run_properties\": \"copy=True\", \"primary_metric\": 0.13482752, \"best_metric\": 0.13482752}, {\"run_id\": \"AutoML_2be82eef-3aa8-4e38-bccb-b32fef140c2c_1\", \"run_number\": 8, \"metric\": null, \"status\": \"Completed\", \"run_type\": \"azureml.scriptrun\", \"training_percent\": \"100\", \"start_time\": \"2021-01-31T23:31:32.459287Z\", \"end_time\": \"2021-01-31T23:32:26.894759Z\", \"created_time\": \"2021-01-31T23:30:27.106308Z\", \"created_time_dt\": \"2021-01-31T23:30:27.106308Z\", \"duration\": \"0:01:59\", \"iteration\": \"1\", \"goal\": \"normalized_root_mean_squared_error_min\", \"run_name\": \"MaxAbsScaler, XGBoostRegressor\", \"run_properties\": \"copy=True\", \"primary_metric\": 0.13319723, \"best_metric\": 0.13319723}, {\"run_id\": \"AutoML_2be82eef-3aa8-4e38-bccb-b32fef140c2c_2\", \"run_number\": 11, \"metric\": null, \"status\": \"Completed\", \"run_type\": \"azureml.scriptrun\", \"training_percent\": \"100\", \"start_time\": \"2021-01-31T23:32:48.272508Z\", \"end_time\": \"2021-01-31T23:33:50.815951Z\", \"created_time\": \"2021-01-31T23:32:28.90487Z\", \"created_time_dt\": \"2021-01-31T23:32:28.90487Z\", \"duration\": \"0:01:21\", \"iteration\": \"2\", \"goal\": \"normalized_root_mean_squared_error_min\", \"run_name\": \"StandardScalerWrapper, ElasticNet\", \"run_properties\": \"<azureml.automl.runtime.shared.model_wrappers.StandardScalerWrapper object at 0x7fb9636b6278\", \"primary_metric\": 0.20760801, \"best_metric\": 0.13319723}, {\"run_id\": \"AutoML_2be82eef-3aa8-4e38-bccb-b32fef140c2c_3\", \"run_number\": 13, \"metric\": null, \"status\": \"Completed\", \"run_type\": \"azureml.scriptrun\", \"training_percent\": \"100\", \"start_time\": \"2021-01-31T23:34:04.43367Z\", \"end_time\": \"2021-01-31T23:34:52.495636Z\", \"created_time\": \"2021-01-31T23:33:53.060473Z\", \"created_time_dt\": \"2021-01-31T23:33:53.060473Z\", \"duration\": \"0:00:59\", \"iteration\": \"3\", \"goal\": \"normalized_root_mean_squared_error_min\", \"run_name\": \"MaxAbsScaler, DecisionTree\", \"run_properties\": \"copy=True\", \"primary_metric\": 0.14613992, \"best_metric\": 0.13319723}, {\"run_id\": \"AutoML_2be82eef-3aa8-4e38-bccb-b32fef140c2c_4\", \"run_number\": 15, \"metric\": null, \"status\": \"Completed\", \"run_type\": \"azureml.scriptrun\", \"training_percent\": \"100\", \"start_time\": \"2021-01-31T23:35:09.519763Z\", \"end_time\": \"2021-01-31T23:36:10.052851Z\", \"created_time\": \"2021-01-31T23:34:54.71697Z\", \"created_time_dt\": \"2021-01-31T23:34:54.71697Z\", \"duration\": \"0:01:15\", \"iteration\": \"4\", \"goal\": \"normalized_root_mean_squared_error_min\", \"run_name\": \"MaxAbsScaler, ElasticNet\", \"run_properties\": \"copy=True\", \"primary_metric\": 0.19845941, \"best_metric\": 0.13319723}, {\"run_id\": \"AutoML_2be82eef-3aa8-4e38-bccb-b32fef140c2c_5\", \"run_number\": 17, \"metric\": null, \"status\": \"Completed\", \"run_type\": \"azureml.scriptrun\", \"training_percent\": \"100\", \"start_time\": \"2021-01-31T23:36:24.460251Z\", \"end_time\": \"2021-01-31T23:37:06.713796Z\", \"created_time\": \"2021-01-31T23:36:12.54156Z\", \"created_time_dt\": \"2021-01-31T23:36:12.54156Z\", \"duration\": \"0:00:54\", \"iteration\": \"5\", \"goal\": \"normalized_root_mean_squared_error_min\", \"run_name\": \"MaxAbsScaler, DecisionTree\", \"run_properties\": \"copy=True\", \"primary_metric\": 0.14775928, \"best_metric\": 0.13319723}, {\"run_id\": \"AutoML_2be82eef-3aa8-4e38-bccb-b32fef140c2c_6\", \"run_number\": 19, \"metric\": null, \"status\": \"Completed\", \"run_type\": \"azureml.scriptrun\", \"training_percent\": \"100\", \"start_time\": \"2021-01-31T23:37:19.668839Z\", \"end_time\": \"2021-01-31T23:38:13.268123Z\", \"created_time\": \"2021-01-31T23:37:09.164425Z\", \"created_time_dt\": \"2021-01-31T23:37:09.164425Z\", \"duration\": \"0:01:04\", \"iteration\": \"6\", \"goal\": \"normalized_root_mean_squared_error_min\", \"run_name\": \"MaxAbsScaler, DecisionTree\", \"run_properties\": \"copy=True\", \"primary_metric\": 0.16961957, \"best_metric\": 0.13319723}, {\"run_id\": \"AutoML_2be82eef-3aa8-4e38-bccb-b32fef140c2c_7\", \"run_number\": 21, \"metric\": null, \"status\": \"Completed\", \"run_type\": \"azureml.scriptrun\", \"training_percent\": \"100\", \"start_time\": \"2021-01-31T23:38:27.747768Z\", \"end_time\": \"2021-01-31T23:39:18.254535Z\", \"created_time\": \"2021-01-31T23:38:15.246666Z\", \"created_time_dt\": \"2021-01-31T23:38:15.246666Z\", \"duration\": \"0:01:03\", \"iteration\": \"7\", \"goal\": \"normalized_root_mean_squared_error_min\", \"run_name\": \"MaxAbsScaler, DecisionTree\", \"run_properties\": \"copy=True\", \"primary_metric\": 0.1564198, \"best_metric\": 0.13319723}, {\"run_id\": \"AutoML_2be82eef-3aa8-4e38-bccb-b32fef140c2c_8\", \"run_number\": 23, \"metric\": null, \"status\": \"Completed\", \"run_type\": \"azureml.scriptrun\", \"training_percent\": \"100\", \"start_time\": \"2021-01-31T23:39:30.84422Z\", \"end_time\": \"2021-01-31T23:40:12.734436Z\", \"created_time\": \"2021-01-31T23:39:20.446048Z\", \"created_time_dt\": \"2021-01-31T23:39:20.446048Z\", \"duration\": \"0:00:52\", \"iteration\": \"8\", \"goal\": \"normalized_root_mean_squared_error_min\", \"run_name\": \"MaxAbsScaler, DecisionTree\", \"run_properties\": \"copy=True\", \"primary_metric\": 0.15001132, \"best_metric\": 0.13319723}, {\"run_id\": \"AutoML_2be82eef-3aa8-4e38-bccb-b32fef140c2c_9\", \"run_number\": 24, \"metric\": null, \"status\": \"Completed\", \"run_type\": \"azureml.scriptrun\", \"training_percent\": \"100\", \"start_time\": \"2021-01-31T23:40:25.428062Z\", \"end_time\": \"2021-01-31T23:41:10.247077Z\", \"created_time\": \"2021-01-31T23:40:14.828998Z\", \"created_time_dt\": \"2021-01-31T23:40:14.828998Z\", \"duration\": \"0:00:55\", \"iteration\": \"9\", \"goal\": \"normalized_root_mean_squared_error_min\", \"run_name\": \"MaxAbsScaler, DecisionTree\", \"run_properties\": \"copy=True\", \"primary_metric\": 0.16201364, \"best_metric\": 0.13319723}, {\"run_id\": \"AutoML_2be82eef-3aa8-4e38-bccb-b32fef140c2c_10\", \"run_number\": 26, \"metric\": null, \"status\": \"Completed\", \"run_type\": \"azureml.scriptrun\", \"training_percent\": \"100\", \"start_time\": \"2021-01-31T23:41:23.852338Z\", \"end_time\": \"2021-01-31T23:42:11.499858Z\", \"created_time\": \"2021-01-31T23:41:12.321385Z\", \"created_time_dt\": \"2021-01-31T23:41:12.321385Z\", \"duration\": \"0:00:59\", \"iteration\": \"10\", \"goal\": \"normalized_root_mean_squared_error_min\", \"run_name\": \"MaxAbsScaler, DecisionTree\", \"run_properties\": \"copy=True\", \"primary_metric\": 0.14274914, \"best_metric\": 0.13319723}, {\"run_id\": \"AutoML_2be82eef-3aa8-4e38-bccb-b32fef140c2c_11\", \"run_number\": 28, \"metric\": null, \"status\": \"Completed\", \"run_type\": \"azureml.scriptrun\", \"training_percent\": \"100\", \"start_time\": \"2021-01-31T23:42:26.252401Z\", \"end_time\": \"2021-01-31T23:43:17.020618Z\", \"created_time\": \"2021-01-31T23:42:13.535263Z\", \"created_time_dt\": \"2021-01-31T23:42:13.535263Z\", \"duration\": \"0:01:03\", \"iteration\": \"11\", \"goal\": \"normalized_root_mean_squared_error_min\", \"run_name\": \"MaxAbsScaler, DecisionTree\", \"run_properties\": \"copy=True\", \"primary_metric\": 0.17698211, \"best_metric\": 0.13319723}, {\"run_id\": \"AutoML_2be82eef-3aa8-4e38-bccb-b32fef140c2c_12\", \"run_number\": 30, \"metric\": null, \"status\": \"Completed\", \"run_type\": \"azureml.scriptrun\", \"training_percent\": \"100\", \"start_time\": \"2021-01-31T23:43:29.934217Z\", \"end_time\": \"2021-01-31T23:44:20.531554Z\", \"created_time\": \"2021-01-31T23:43:19.455904Z\", \"created_time_dt\": \"2021-01-31T23:43:19.455904Z\", \"duration\": \"0:01:01\", \"iteration\": \"12\", \"goal\": \"normalized_root_mean_squared_error_min\", \"run_name\": \"MaxAbsScaler, DecisionTree\", \"run_properties\": \"copy=True\", \"primary_metric\": 0.14639978, \"best_metric\": 0.13319723}, {\"run_id\": \"AutoML_2be82eef-3aa8-4e38-bccb-b32fef140c2c_13\", \"run_number\": 32, \"metric\": null, \"status\": \"Completed\", \"run_type\": \"azureml.scriptrun\", \"training_percent\": \"100\", \"start_time\": \"2021-01-31T23:44:33.911829Z\", \"end_time\": \"2021-01-31T23:45:13.16875Z\", \"created_time\": \"2021-01-31T23:44:22.716789Z\", \"created_time_dt\": \"2021-01-31T23:44:22.716789Z\", \"duration\": \"0:00:50\", \"iteration\": \"13\", \"goal\": \"normalized_root_mean_squared_error_min\", \"run_name\": \"StandardScalerWrapper, DecisionTree\", \"run_properties\": \"<azureml.automl.runtime.shared.model_wrappers.StandardScalerWrapper object at 0x7f83d2b5a4e0\", \"primary_metric\": 0.16179805, \"best_metric\": 0.13319723}, {\"run_id\": \"AutoML_2be82eef-3aa8-4e38-bccb-b32fef140c2c_14\", \"run_number\": 34, \"metric\": null, \"status\": \"Completed\", \"run_type\": \"azureml.scriptrun\", \"training_percent\": \"100\", \"start_time\": \"2021-01-31T23:45:26.163804Z\", \"end_time\": \"2021-01-31T23:46:14.123645Z\", \"created_time\": \"2021-01-31T23:45:15.312393Z\", \"created_time_dt\": \"2021-01-31T23:45:15.312393Z\", \"duration\": \"0:00:58\", \"iteration\": \"14\", \"goal\": \"normalized_root_mean_squared_error_min\", \"run_name\": \"MaxAbsScaler, DecisionTree\", \"run_properties\": \"copy=True\", \"primary_metric\": 0.14257559, \"best_metric\": 0.13319723}, {\"run_id\": \"AutoML_2be82eef-3aa8-4e38-bccb-b32fef140c2c_15\", \"run_number\": 36, \"metric\": null, \"status\": \"Completed\", \"run_type\": \"azureml.scriptrun\", \"training_percent\": \"100\", \"start_time\": \"2021-01-31T23:46:26.756981Z\", \"end_time\": \"2021-01-31T23:47:14.40383Z\", \"created_time\": \"2021-01-31T23:46:16.415312Z\", \"created_time_dt\": \"2021-01-31T23:46:16.415312Z\", \"duration\": \"0:00:57\", \"iteration\": \"15\", \"goal\": \"normalized_root_mean_squared_error_min\", \"run_name\": \"MaxAbsScaler, DecisionTree\", \"run_properties\": \"copy=True\", \"primary_metric\": 0.1554925, \"best_metric\": 0.13319723}, {\"run_id\": \"AutoML_2be82eef-3aa8-4e38-bccb-b32fef140c2c_16\", \"run_number\": 38, \"metric\": null, \"status\": \"Completed\", \"run_type\": \"azureml.scriptrun\", \"training_percent\": \"100\", \"start_time\": \"2021-01-31T23:47:28.719624Z\", \"end_time\": \"2021-01-31T23:48:16.496216Z\", \"created_time\": \"2021-01-31T23:47:16.723685Z\", \"created_time_dt\": \"2021-01-31T23:47:16.723685Z\", \"duration\": \"0:00:59\", \"iteration\": \"16\", \"goal\": \"normalized_root_mean_squared_error_min\", \"run_name\": \"MaxAbsScaler, SGD\", \"run_properties\": \"copy=True\", \"primary_metric\": 0.19600659, \"best_metric\": 0.13319723}, {\"run_id\": \"AutoML_2be82eef-3aa8-4e38-bccb-b32fef140c2c_17\", \"run_number\": 40, \"metric\": null, \"status\": \"Completed\", \"run_type\": \"azureml.scriptrun\", \"training_percent\": \"100\", \"start_time\": \"2021-01-31T23:48:28.949237Z\", \"end_time\": \"2021-01-31T23:49:21.97919Z\", \"created_time\": \"2021-01-31T23:48:18.55945Z\", \"created_time_dt\": \"2021-01-31T23:48:18.55945Z\", \"duration\": \"0:01:03\", \"iteration\": \"17\", \"goal\": \"normalized_root_mean_squared_error_min\", \"run_name\": \"MaxAbsScaler, DecisionTree\", \"run_properties\": \"copy=True\", \"primary_metric\": 0.16468286, \"best_metric\": 0.13319723}, {\"run_id\": \"AutoML_2be82eef-3aa8-4e38-bccb-b32fef140c2c_18\", \"run_number\": 42, \"metric\": null, \"status\": \"Completed\", \"run_type\": \"azureml.scriptrun\", \"training_percent\": \"100\", \"start_time\": \"2021-01-31T23:49:53.557778Z\", \"end_time\": \"2021-01-31T23:50:38.38572Z\", \"created_time\": \"2021-01-31T23:49:24.233417Z\", \"created_time_dt\": \"2021-01-31T23:49:24.233417Z\", \"duration\": \"0:01:14\", \"iteration\": \"18\", \"goal\": \"normalized_root_mean_squared_error_min\", \"run_name\": \"MaxAbsScaler, DecisionTree\", \"run_properties\": \"copy=True\", \"primary_metric\": 0.14492436, \"best_metric\": 0.13319723}, {\"run_id\": \"AutoML_2be82eef-3aa8-4e38-bccb-b32fef140c2c_19\", \"run_number\": 44, \"metric\": null, \"status\": \"Completed\", \"run_type\": \"azureml.scriptrun\", \"training_percent\": \"100\", \"start_time\": \"2021-01-31T23:50:52.123567Z\", \"end_time\": \"2021-01-31T23:51:37.154742Z\", \"created_time\": \"2021-01-31T23:50:40.512653Z\", \"created_time_dt\": \"2021-01-31T23:50:40.512653Z\", \"duration\": \"0:00:56\", \"iteration\": \"19\", \"goal\": \"normalized_root_mean_squared_error_min\", \"run_name\": \"MaxAbsScaler, DecisionTree\", \"run_properties\": \"copy=True\", \"primary_metric\": 0.15408921, \"best_metric\": 0.13319723}, {\"run_id\": \"AutoML_2be82eef-3aa8-4e38-bccb-b32fef140c2c_20\", \"run_number\": 46, \"metric\": null, \"status\": \"Completed\", \"run_type\": \"azureml.scriptrun\", \"training_percent\": \"100\", \"start_time\": \"2021-01-31T23:51:51.686752Z\", \"end_time\": \"2021-01-31T23:52:39.459585Z\", \"created_time\": \"2021-01-31T23:51:39.444953Z\", \"created_time_dt\": \"2021-01-31T23:51:39.444953Z\", \"duration\": \"0:01:00\", \"iteration\": \"20\", \"goal\": \"normalized_root_mean_squared_error_min\", \"run_name\": \"MaxAbsScaler, SGD\", \"run_properties\": \"copy=True\", \"primary_metric\": 0.1928905, \"best_metric\": 0.13319723}, {\"run_id\": \"AutoML_2be82eef-3aa8-4e38-bccb-b32fef140c2c_21\", \"run_number\": 48, \"metric\": null, \"status\": \"Completed\", \"run_type\": \"azureml.scriptrun\", \"training_percent\": \"100\", \"start_time\": \"2021-01-31T23:52:52.551403Z\", \"end_time\": \"2021-01-31T23:53:31.985875Z\", \"created_time\": \"2021-01-31T23:52:41.574612Z\", \"created_time_dt\": \"2021-01-31T23:52:41.574612Z\", \"duration\": \"0:00:50\", \"iteration\": \"21\", \"goal\": \"normalized_root_mean_squared_error_min\", \"run_name\": \"MaxAbsScaler, DecisionTree\", \"run_properties\": \"copy=True\", \"primary_metric\": 0.15975828, \"best_metric\": 0.13319723}, {\"run_id\": \"AutoML_2be82eef-3aa8-4e38-bccb-b32fef140c2c_22\", \"run_number\": 50, \"metric\": null, \"status\": \"Completed\", \"run_type\": \"azureml.scriptrun\", \"training_percent\": \"100\", \"start_time\": \"2021-01-31T23:53:46.254519Z\", \"end_time\": \"2021-01-31T23:54:31.555734Z\", \"created_time\": \"2021-01-31T23:53:34.079615Z\", \"created_time_dt\": \"2021-01-31T23:53:34.079615Z\", \"duration\": \"0:00:57\", \"iteration\": \"22\", \"goal\": \"normalized_root_mean_squared_error_min\", \"run_name\": \"MaxAbsScaler, DecisionTree\", \"run_properties\": \"copy=True\", \"primary_metric\": 0.15620318, \"best_metric\": 0.13319723}, {\"run_id\": \"AutoML_2be82eef-3aa8-4e38-bccb-b32fef140c2c_23\", \"run_number\": 52, \"metric\": null, \"status\": \"Completed\", \"run_type\": \"azureml.scriptrun\", \"training_percent\": \"100\", \"start_time\": \"2021-01-31T23:54:45.154524Z\", \"end_time\": \"2021-01-31T23:55:42.073907Z\", \"created_time\": \"2021-01-31T23:54:33.404882Z\", \"created_time_dt\": \"2021-01-31T23:54:33.404882Z\", \"duration\": \"0:01:08\", \"iteration\": \"23\", \"goal\": \"normalized_root_mean_squared_error_min\", \"run_name\": \"MaxAbsScaler, RandomForest\", \"run_properties\": \"copy=True\", \"primary_metric\": 0.13882277, \"best_metric\": 0.13319723}, {\"run_id\": \"AutoML_2be82eef-3aa8-4e38-bccb-b32fef140c2c_24\", \"run_number\": 54, \"metric\": null, \"status\": \"Completed\", \"run_type\": \"azureml.scriptrun\", \"training_percent\": \"100\", \"start_time\": \"2021-01-31T23:55:55.791712Z\", \"end_time\": \"2021-01-31T23:56:58.797765Z\", \"created_time\": \"2021-01-31T23:55:44.212864Z\", \"created_time_dt\": \"2021-01-31T23:55:44.212864Z\", \"duration\": \"0:01:14\", \"iteration\": \"24\", \"goal\": \"normalized_root_mean_squared_error_min\", \"run_name\": \"MaxAbsScaler, GradientBoosting\", \"run_properties\": \"copy=True\", \"primary_metric\": 0.15229559, \"best_metric\": 0.13319723}, {\"run_id\": \"AutoML_2be82eef-3aa8-4e38-bccb-b32fef140c2c_25\", \"run_number\": 56, \"metric\": null, \"status\": \"Completed\", \"run_type\": \"azureml.scriptrun\", \"training_percent\": \"100\", \"start_time\": \"2021-01-31T23:57:13.393558Z\", \"end_time\": \"2021-01-31T23:58:39.537531Z\", \"created_time\": \"2021-01-31T23:57:01.963114Z\", \"created_time_dt\": \"2021-01-31T23:57:01.963114Z\", \"duration\": \"0:01:37\", \"iteration\": \"25\", \"goal\": \"normalized_root_mean_squared_error_min\", \"run_name\": \"TruncatedSVDWrapper, XGBoostRegressor\", \"run_properties\": \"n_components=0.3068421052631579, random_state=None\", \"primary_metric\": 0.1506681, \"best_metric\": 0.13319723}, {\"run_id\": \"AutoML_2be82eef-3aa8-4e38-bccb-b32fef140c2c_26\", \"run_number\": 59, \"metric\": null, \"status\": \"Completed\", \"run_type\": \"azureml.scriptrun\", \"training_percent\": \"100\", \"start_time\": \"2021-01-31T23:58:52.625374Z\", \"end_time\": \"2021-01-31T23:59:40.745801Z\", \"created_time\": \"2021-01-31T23:58:41.472094Z\", \"created_time_dt\": \"2021-01-31T23:58:41.472094Z\", \"duration\": \"0:00:59\", \"iteration\": \"26\", \"goal\": \"normalized_root_mean_squared_error_min\", \"run_name\": \"MaxAbsScaler, DecisionTree\", \"run_properties\": \"copy=True\", \"primary_metric\": 0.15606375, \"best_metric\": 0.13319723}, {\"run_id\": \"AutoML_2be82eef-3aa8-4e38-bccb-b32fef140c2c_27\", \"run_number\": 61, \"metric\": null, \"status\": \"Completed\", \"run_type\": \"azureml.scriptrun\", \"training_percent\": \"100\", \"start_time\": \"2021-01-31T23:59:55.539558Z\", \"end_time\": \"2021-02-01T00:00:40.528147Z\", \"created_time\": \"2021-01-31T23:59:42.574448Z\", \"created_time_dt\": \"2021-01-31T23:59:42.574448Z\", \"duration\": \"0:00:57\", \"iteration\": \"27\", \"goal\": \"normalized_root_mean_squared_error_min\", \"run_name\": \"MaxAbsScaler, LightGBM\", \"run_properties\": \"copy=True\", \"primary_metric\": 0.14614818, \"best_metric\": 0.13319723}, {\"run_id\": \"AutoML_2be82eef-3aa8-4e38-bccb-b32fef140c2c_28\", \"run_number\": 62, \"metric\": null, \"status\": \"Completed\", \"run_type\": \"azureml.scriptrun\", \"training_percent\": \"100\", \"start_time\": \"2021-02-01T00:01:12.569167Z\", \"end_time\": \"2021-02-01T00:01:57.035974Z\", \"created_time\": \"2021-02-01T00:00:42.462939Z\", \"created_time_dt\": \"2021-02-01T00:00:42.462939Z\", \"duration\": \"0:01:14\", \"iteration\": \"28\", \"goal\": \"normalized_root_mean_squared_error_min\", \"run_name\": \"MaxAbsScaler, DecisionTree\", \"run_properties\": \"copy=True\", \"primary_metric\": 0.15913065, \"best_metric\": 0.13319723}, {\"run_id\": \"AutoML_2be82eef-3aa8-4e38-bccb-b32fef140c2c_29\", \"run_number\": 64, \"metric\": null, \"status\": \"Completed\", \"run_type\": \"azureml.scriptrun\", \"training_percent\": \"100\", \"start_time\": \"2021-02-01T00:02:10.268407Z\", \"end_time\": \"2021-02-01T00:03:00.251914Z\", \"created_time\": \"2021-02-01T00:01:59.115092Z\", \"created_time_dt\": \"2021-02-01T00:01:59.115092Z\", \"duration\": \"0:01:01\", \"iteration\": \"29\", \"goal\": \"normalized_root_mean_squared_error_min\", \"run_name\": \"MaxAbsScaler, ExtremeRandomTrees\", \"run_properties\": \"copy=True\", \"primary_metric\": 0.13741387, \"best_metric\": 0.13319723}, {\"run_id\": \"AutoML_2be82eef-3aa8-4e38-bccb-b32fef140c2c_30\", \"run_number\": 65, \"metric\": null, \"status\": \"Completed\", \"run_type\": \"azureml.scriptrun\", \"training_percent\": \"100\", \"start_time\": \"2021-02-01T00:03:13.159117Z\", \"end_time\": \"2021-02-01T00:04:36.057712Z\", \"created_time\": \"2021-02-01T00:03:01.258586Z\", \"created_time_dt\": \"2021-02-01T00:03:01.258586Z\", \"duration\": \"0:01:34\", \"iteration\": \"30\", \"goal\": \"normalized_root_mean_squared_error_min\", \"run_name\": \"VotingEnsemble\", \"run_properties\": \"estimators=[('1',\\n                                          Pipeline(memory=None,\\n                                                   steps=[('maxabsscaler',\\n                                                           MaxAbsScaler(copy=True\", \"primary_metric\": 0.12630006, \"best_metric\": 0.12630006}, {\"run_id\": \"AutoML_2be82eef-3aa8-4e38-bccb-b32fef140c2c_31\", \"run_number\": 67, \"metric\": null, \"status\": \"Completed\", \"run_type\": \"azureml.scriptrun\", \"training_percent\": \"100\", \"start_time\": \"2021-02-01T00:04:48.295895Z\", \"end_time\": \"2021-02-01T00:06:07.218497Z\", \"created_time\": \"2021-02-01T00:04:36.849908Z\", \"created_time_dt\": \"2021-02-01T00:04:36.849908Z\", \"duration\": \"0:01:30\", \"iteration\": \"31\", \"goal\": \"normalized_root_mean_squared_error_min\", \"run_name\": \"StackEnsemble\", \"run_properties\": \"base_learners=[('1',\\n                                       Pipeline(memory=None,\\n                                                steps=[('maxabsscaler',\\n                                                        MaxAbsScaler(copy=True\", \"primary_metric\": 0.13067535, \"best_metric\": 0.12630006}], \"children_metrics\": {\"categories\": [0], \"series\": {\"normalized_mean_absolute_error\": [{\"categories\": [\"0\", \"1\", \"2\", \"3\", \"4\", \"5\", \"6\", \"7\", \"8\", \"9\", \"10\", \"11\", \"12\", \"13\", \"14\", \"15\", \"16\", \"17\", \"18\", \"19\", \"20\", \"21\", \"22\", \"23\", \"24\", \"25\", \"26\", \"27\", \"28\", \"29\", \"30\", \"31\"], \"mode\": \"markers\", \"name\": \"normalized_mean_absolute_error\", \"stepped\": false, \"type\": \"scatter\", \"data\": [0.0944548911518838, 0.08995486149316893, 0.1559787856557057, 0.09576320532167262, 0.14864012095184861, 0.10074343095219936, 0.11150440408253941, 0.101884378414962, 0.09914207349704059, 0.10569552908117726, 0.09542435190233568, 0.11674402730372017, 0.09830290533817022, 0.10670873556135796, 0.09748548689990102, 0.10137366590122021, 0.14568303359289497, 0.10758997181039351, 0.09647427995318955, 0.1018675181664529, 0.14157105072759202, 0.10369605556286379, 0.10306155842869565, 0.0937203607775719, 0.11375279903923889, 0.10402477934007597, 0.10082517238423883, 0.105998568939683, 0.10096866306501451, 0.09619784744618805, 0.08596238428507691, 0.087359966391824]}, {\"categories\": [\"0\", \"1\", \"2\", \"3\", \"4\", \"5\", \"6\", \"7\", \"8\", \"9\", \"10\", \"11\", \"12\", \"13\", \"14\", \"15\", \"16\", \"17\", \"18\", \"19\", \"20\", \"21\", \"22\", \"23\", \"24\", \"25\", \"26\", \"27\", \"28\", \"29\", \"30\", \"31\"], \"mode\": \"lines\", \"name\": \"normalized_mean_absolute_error_min\", \"stepped\": true, \"type\": \"scatter\", \"data\": [0.0944548911518838, 0.08995486149316893, 0.08995486149316893, 0.08995486149316893, 0.08995486149316893, 0.08995486149316893, 0.08995486149316893, 0.08995486149316893, 0.08995486149316893, 0.08995486149316893, 0.08995486149316893, 0.08995486149316893, 0.08995486149316893, 0.08995486149316893, 0.08995486149316893, 0.08995486149316893, 0.08995486149316893, 0.08995486149316893, 0.08995486149316893, 0.08995486149316893, 0.08995486149316893, 0.08995486149316893, 0.08995486149316893, 0.08995486149316893, 0.08995486149316893, 0.08995486149316893, 0.08995486149316893, 0.08995486149316893, 0.08995486149316893, 0.08995486149316893, 0.08596238428507691, 0.08596238428507691]}], \"mean_absolute_percentage_error\": [{\"categories\": [\"0\", \"1\", \"2\", \"3\", \"4\", \"5\", \"6\", \"7\", \"8\", \"9\", \"10\", \"11\", \"12\", \"13\", \"14\", \"15\", \"16\", \"17\", \"18\", \"19\", \"20\", \"21\", \"22\", \"23\", \"24\", \"25\", \"26\", \"27\", \"28\", \"29\", \"30\", \"31\"], \"mode\": \"markers\", \"name\": \"mean_absolute_percentage_error\", \"stepped\": false, \"type\": \"scatter\", \"data\": [100.04086473847599, 111.92616922579491, 254.77144846264554, 97.73612574801793, 219.93297941571646, 98.89619230239362, 109.63830670196478, 93.63015970949121, 98.57882131031616, 91.45047678911074, 94.1985911047245, 109.10485077738954, 96.88215525593554, 102.1165401017599, 104.74483021869369, 103.70868063075811, 207.9413555377313, 106.21044704018622, 101.1872106576192, 98.77455716251725, 188.7028426503074, 104.23349880070569, 105.03629795472304, 101.32579197190316, 182.08424312541877, 111.27637847494914, 99.51291884967797, 164.38650957544317, 89.39829885583563, 123.30721893496427, 96.12387951499342, 96.26599426476189]}, {\"categories\": [\"0\", \"1\", \"2\", \"3\", \"4\", \"5\", \"6\", \"7\", \"8\", \"9\", \"10\", \"11\", \"12\", \"13\", \"14\", \"15\", \"16\", \"17\", \"18\", \"19\", \"20\", \"21\", \"22\", \"23\", \"24\", \"25\", \"26\", \"27\", \"28\", \"29\", \"30\", \"31\"], \"mode\": \"lines\", \"name\": \"mean_absolute_percentage_error_min\", \"stepped\": true, \"type\": \"scatter\", \"data\": [100.04086473847599, 100.04086473847599, 100.04086473847599, 97.73612574801793, 97.73612574801793, 97.73612574801793, 97.73612574801793, 93.63015970949121, 93.63015970949121, 91.45047678911074, 91.45047678911074, 91.45047678911074, 91.45047678911074, 91.45047678911074, 91.45047678911074, 91.45047678911074, 91.45047678911074, 91.45047678911074, 91.45047678911074, 91.45047678911074, 91.45047678911074, 91.45047678911074, 91.45047678911074, 91.45047678911074, 91.45047678911074, 91.45047678911074, 91.45047678911074, 91.45047678911074, 89.39829885583563, 89.39829885583563, 89.39829885583563, 89.39829885583563]}], \"r2_score\": [{\"categories\": [\"0\", \"1\", \"2\", \"3\", \"4\", \"5\", \"6\", \"7\", \"8\", \"9\", \"10\", \"11\", \"12\", \"13\", \"14\", \"15\", \"16\", \"17\", \"18\", \"19\", \"20\", \"21\", \"22\", \"23\", \"24\", \"25\", \"26\", \"27\", \"28\", \"29\", \"30\", \"31\"], \"mode\": \"markers\", \"name\": \"r2_score\", \"stepped\": false, \"type\": \"scatter\", \"data\": [0.6339529047422567, 0.6441466706983234, 0.1683231874546548, 0.5660716361276376, 0.23451999002134089, 0.5502609017328703, 0.4102164488466863, 0.5129948046639858, 0.5512018917373867, 0.4635001804713024, 0.596311741075479, 0.3673777812516421, 0.5786645983030418, 0.47385427503166005, 0.588626012805961, 0.5234385080952771, 0.25418150992755556, 0.44922470362838973, 0.5835204352383734, 0.5207872020348961, 0.279318620031599, 0.4880257578599566, 0.5079269003058766, 0.6092182396661998, 0.5508904998767231, 0.5441494702225487, 0.5050866771603901, 0.587235721625903, 0.4857807390368354, 0.6317953490233424, 0.6802915477009499, 0.6590280486003149]}, {\"categories\": [\"0\", \"1\", \"2\", \"3\", \"4\", \"5\", \"6\", \"7\", \"8\", \"9\", \"10\", \"11\", \"12\", \"13\", \"14\", \"15\", \"16\", \"17\", \"18\", \"19\", \"20\", \"21\", \"22\", \"23\", \"24\", \"25\", \"26\", \"27\", \"28\", \"29\", \"30\", \"31\"], \"mode\": \"lines\", \"name\": \"r2_score_max\", \"stepped\": true, \"type\": \"scatter\", \"data\": [0.6339529047422567, 0.6441466706983234, 0.6441466706983234, 0.6441466706983234, 0.6441466706983234, 0.6441466706983234, 0.6441466706983234, 0.6441466706983234, 0.6441466706983234, 0.6441466706983234, 0.6441466706983234, 0.6441466706983234, 0.6441466706983234, 0.6441466706983234, 0.6441466706983234, 0.6441466706983234, 0.6441466706983234, 0.6441466706983234, 0.6441466706983234, 0.6441466706983234, 0.6441466706983234, 0.6441466706983234, 0.6441466706983234, 0.6441466706983234, 0.6441466706983234, 0.6441466706983234, 0.6441466706983234, 0.6441466706983234, 0.6441466706983234, 0.6441466706983234, 0.6802915477009499, 0.6802915477009499]}], \"root_mean_squared_error\": [{\"categories\": [\"0\", \"1\", \"2\", \"3\", \"4\", \"5\", \"6\", \"7\", \"8\", \"9\", \"10\", \"11\", \"12\", \"13\", \"14\", \"15\", \"16\", \"17\", \"18\", \"19\", \"20\", \"21\", \"22\", \"23\", \"24\", \"25\", \"26\", \"27\", \"28\", \"29\", \"30\", \"31\"], \"mode\": \"markers\", \"name\": \"root_mean_squared_error\", \"stepped\": false, \"type\": \"scatter\", \"data\": [5413620.169217859, 5348160.328368155, 8335916.405490239, 5867837.81821906, 7968580.009436019, 5932858.682458408, 6810597.268310001, 6280597.713290256, 6023283.18302829, 6505202.368067874, 5731690.770828311, 7106219.286153515, 5878271.83883096, 6496546.245692055, 5724722.294895377, 6243364.410437015, 7870093.993912627, 6612377.633687434, 5819030.368922187, 6187019.332654826, 7744976.032093178, 6414644.981561859, 6271899.916841196, 5574038.085428728, 6115001.3729778165, 6049654.355006002, 6266301.17782715, 5868169.477686357, 6389443.95003441, 5517467.726688023, 5071224.05195731, 5246901.4719214905]}, {\"categories\": [\"0\", \"1\", \"2\", \"3\", \"4\", \"5\", \"6\", \"7\", \"8\", \"9\", \"10\", \"11\", \"12\", \"13\", \"14\", \"15\", \"16\", \"17\", \"18\", \"19\", \"20\", \"21\", \"22\", \"23\", \"24\", \"25\", \"26\", \"27\", \"28\", \"29\", \"30\", \"31\"], \"mode\": \"lines\", \"name\": \"root_mean_squared_error_min\", \"stepped\": true, \"type\": \"scatter\", \"data\": [5413620.169217859, 5348160.328368155, 5348160.328368155, 5348160.328368155, 5348160.328368155, 5348160.328368155, 5348160.328368155, 5348160.328368155, 5348160.328368155, 5348160.328368155, 5348160.328368155, 5348160.328368155, 5348160.328368155, 5348160.328368155, 5348160.328368155, 5348160.328368155, 5348160.328368155, 5348160.328368155, 5348160.328368155, 5348160.328368155, 5348160.328368155, 5348160.328368155, 5348160.328368155, 5348160.328368155, 5348160.328368155, 5348160.328368155, 5348160.328368155, 5348160.328368155, 5348160.328368155, 5348160.328368155, 5071224.05195731, 5071224.05195731]}], \"median_absolute_error\": [{\"categories\": [\"0\", \"1\", \"2\", \"3\", \"4\", \"5\", \"6\", \"7\", \"8\", \"9\", \"10\", \"11\", \"12\", \"13\", \"14\", \"15\", \"16\", \"17\", \"18\", \"19\", \"20\", \"21\", \"22\", \"23\", \"24\", \"25\", \"26\", \"27\", \"28\", \"29\", \"30\", \"31\"], \"mode\": \"markers\", \"name\": \"median_absolute_error\", \"stepped\": false, \"type\": \"scatter\", \"data\": [2404694.920134739, 2241714.375, 4570235.880617449, 2052000.5402120755, 4274875.687024811, 2603494.0696428576, 2304636.6249999995, 2403244.4211111115, 2155003.228782786, 2124657.333333333, 2392900.386388889, 2420419.2666666666, 2262145.9451057524, 2469092.085, 2288374.6149999998, 2106143.4263919415, 4126700.380470154, 2192378.966666667, 2362169.812191013, 2386856.8155555557, 3925745.81387461, 2149735.771987179, 2428760.5258333334, 2346289.738104758, 3192750.6901039327, 2438412.6875, 2063978.2528985508, 2853229.885555306, 2052740.4333333336, 2571349.649308224, 2043286.3004684397, 2055157.5425733]}, {\"categories\": [\"0\", \"1\", \"2\", \"3\", \"4\", \"5\", \"6\", \"7\", \"8\", \"9\", \"10\", \"11\", \"12\", \"13\", \"14\", \"15\", \"16\", \"17\", \"18\", \"19\", \"20\", \"21\", \"22\", \"23\", \"24\", \"25\", \"26\", \"27\", \"28\", \"29\", \"30\", \"31\"], \"mode\": \"lines\", \"name\": \"median_absolute_error_min\", \"stepped\": true, \"type\": \"scatter\", \"data\": [2404694.920134739, 2241714.375, 2241714.375, 2052000.5402120755, 2052000.5402120755, 2052000.5402120755, 2052000.5402120755, 2052000.5402120755, 2052000.5402120755, 2052000.5402120755, 2052000.5402120755, 2052000.5402120755, 2052000.5402120755, 2052000.5402120755, 2052000.5402120755, 2052000.5402120755, 2052000.5402120755, 2052000.5402120755, 2052000.5402120755, 2052000.5402120755, 2052000.5402120755, 2052000.5402120755, 2052000.5402120755, 2052000.5402120755, 2052000.5402120755, 2052000.5402120755, 2052000.5402120755, 2052000.5402120755, 2052000.5402120755, 2052000.5402120755, 2043286.3004684397, 2043286.3004684397]}], \"normalized_root_mean_squared_log_error\": [{\"categories\": [\"0\", \"1\", \"2\", \"3\", \"4\", \"5\", \"6\", \"7\", \"8\", \"9\", \"10\", \"11\", \"12\", \"13\", \"14\", \"15\", \"16\", \"17\", \"18\", \"19\", \"20\", \"21\", \"22\", \"23\", \"24\", \"25\", \"26\", \"27\", \"28\", \"29\", \"30\", \"31\"], \"mode\": \"markers\", \"name\": \"normalized_root_mean_squared_log_error\", \"stepped\": false, \"type\": \"scatter\", \"data\": [NaN, 0.13127939589316742, 0.18733407979299826, 0.12297523814450373, NaN, 0.12587456626113627, 0.14011721394586749, 0.12526497410274795, 0.12491773055834872, 0.13813187634131546, 0.12383940541547407, 0.15266817879277333, 0.12207606989364303, 0.13393551703974854, 0.1267258773670111, 0.1275608953122041, NaN, 0.1483917117074981, 0.12463553590842733, 0.12540498603801895, NaN, 0.13442951900161995, 0.13951413847097283, 0.12239604821297285, 0.15099406510337116, NaN, 0.12786297568284122, 0.1465384017640849, 0.13274480516074594, 0.12671236312948075, 0.11670062425863566, 0.11929104243715591]}, {\"categories\": [\"0\", \"1\", \"2\", \"3\", \"4\", \"5\", \"6\", \"7\", \"8\", \"9\", \"10\", \"11\", \"12\", \"13\", \"14\", \"15\", \"16\", \"17\", \"18\", \"19\", \"20\", \"21\", \"22\", \"23\", \"24\", \"25\", \"26\", \"27\", \"28\", \"29\", \"30\", \"31\"], \"mode\": \"lines\", \"name\": \"normalized_root_mean_squared_log_error_min\", \"stepped\": true, \"type\": \"scatter\", \"data\": [NaN, 0.13127939589316742, 0.13127939589316742, 0.12297523814450373, 0.12297523814450373, 0.12297523814450373, 0.12297523814450373, 0.12297523814450373, 0.12297523814450373, 0.12297523814450373, 0.12297523814450373, 0.12297523814450373, 0.12207606989364303, 0.12207606989364303, 0.12207606989364303, 0.12207606989364303, 0.12207606989364303, 0.12207606989364303, 0.12207606989364303, 0.12207606989364303, 0.12207606989364303, 0.12207606989364303, 0.12207606989364303, 0.12207606989364303, 0.12207606989364303, 0.12207606989364303, 0.12207606989364303, 0.12207606989364303, 0.12207606989364303, 0.12207606989364303, 0.11670062425863566, 0.11670062425863566]}], \"normalized_median_absolute_error\": [{\"categories\": [\"0\", \"1\", \"2\", \"3\", \"4\", \"5\", \"6\", \"7\", \"8\", \"9\", \"10\", \"11\", \"12\", \"13\", \"14\", \"15\", \"16\", \"17\", \"18\", \"19\", \"20\", \"21\", \"22\", \"23\", \"24\", \"25\", \"26\", \"27\", \"28\", \"29\", \"30\", \"31\"], \"mode\": \"markers\", \"name\": \"normalized_median_absolute_error\", \"stepped\": false, \"type\": \"scatter\", \"data\": [0.059889508396297655, 0.05583043851406362, 0.11382282960449852, 0.051105569589406596, 0.10646681257049269, 0.0648406492807206, 0.057397532363739054, 0.05985338336741062, 0.053670876452387425, 0.05291510458914778, 0.05959576268165917, 0.06028112704852878, 0.056339291707519626, 0.06149333535729932, 0.05699252307283862, 0.052454011260455326, 0.10277647073472589, 0.05460172824114119, 0.0588304103011819, 0.059445246088832414, 0.09777164866660101, 0.05353968916732012, 0.06048886812483536, 0.05843491321655825, 0.07951622788455456, 0.06072925754485622, 0.051403877419850585, 0.07106038015747848, 0.05112399680648387, 0.06404008472036579, 0.05088853934165085, 0.051184195496517114]}, {\"categories\": [\"0\", \"1\", \"2\", \"3\", \"4\", \"5\", \"6\", \"7\", \"8\", \"9\", \"10\", \"11\", \"12\", \"13\", \"14\", \"15\", \"16\", \"17\", \"18\", \"19\", \"20\", \"21\", \"22\", \"23\", \"24\", \"25\", \"26\", \"27\", \"28\", \"29\", \"30\", \"31\"], \"mode\": \"lines\", \"name\": \"normalized_median_absolute_error_min\", \"stepped\": true, \"type\": \"scatter\", \"data\": [0.059889508396297655, 0.05583043851406362, 0.05583043851406362, 0.051105569589406596, 0.051105569589406596, 0.051105569589406596, 0.051105569589406596, 0.051105569589406596, 0.051105569589406596, 0.051105569589406596, 0.051105569589406596, 0.051105569589406596, 0.051105569589406596, 0.051105569589406596, 0.051105569589406596, 0.051105569589406596, 0.051105569589406596, 0.051105569589406596, 0.051105569589406596, 0.051105569589406596, 0.051105569589406596, 0.051105569589406596, 0.051105569589406596, 0.051105569589406596, 0.051105569589406596, 0.051105569589406596, 0.051105569589406596, 0.051105569589406596, 0.051105569589406596, 0.051105569589406596, 0.05088853934165085, 0.05088853934165085]}], \"root_mean_squared_log_error\": [{\"categories\": [\"0\", \"1\", \"2\", \"3\", \"4\", \"5\", \"6\", \"7\", \"8\", \"9\", \"10\", \"11\", \"12\", \"13\", \"14\", \"15\", \"16\", \"17\", \"18\", \"19\", \"20\", \"21\", \"22\", \"23\", \"24\", \"25\", \"26\", \"27\", \"28\", \"29\", \"30\", \"31\"], \"mode\": \"markers\", \"name\": \"root_mean_squared_log_error\", \"stepped\": false, \"type\": \"scatter\", \"data\": [NaN, 0.817317611170359, 1.166302156903661, 0.7656176903431573, NaN, 0.7836682908518122, 0.872339987603819, 0.7798730996621182, 0.7777112351724793, 0.8599796977252792, 0.7709978120656539, 0.9504796266291546, 0.7600196599604476, 0.8338540567849426, 0.7889683728234163, 0.7941670170402507, NaN, 0.9238552516569376, 0.7759543512716233, 0.7807447842070727, NaN, 0.8369296079835387, 0.8685853679002257, 0.7620117769549057, 0.9400569506856786, NaN, 0.7960477052109329, 0.9123169379299197, 0.8264409377504025, 0.7888842360534383, 0.726553278160857, 0.7426806710635742]}, {\"categories\": [\"0\", \"1\", \"2\", \"3\", \"4\", \"5\", \"6\", \"7\", \"8\", \"9\", \"10\", \"11\", \"12\", \"13\", \"14\", \"15\", \"16\", \"17\", \"18\", \"19\", \"20\", \"21\", \"22\", \"23\", \"24\", \"25\", \"26\", \"27\", \"28\", \"29\", \"30\", \"31\"], \"mode\": \"lines\", \"name\": \"root_mean_squared_log_error_min\", \"stepped\": true, \"type\": \"scatter\", \"data\": [NaN, 0.817317611170359, 0.817317611170359, 0.7656176903431573, 0.7656176903431573, 0.7656176903431573, 0.7656176903431573, 0.7656176903431573, 0.7656176903431573, 0.7656176903431573, 0.7656176903431573, 0.7656176903431573, 0.7600196599604476, 0.7600196599604476, 0.7600196599604476, 0.7600196599604476, 0.7600196599604476, 0.7600196599604476, 0.7600196599604476, 0.7600196599604476, 0.7600196599604476, 0.7600196599604476, 0.7600196599604476, 0.7600196599604476, 0.7600196599604476, 0.7600196599604476, 0.7600196599604476, 0.7600196599604476, 0.7600196599604476, 0.7600196599604476, 0.726553278160857, 0.726553278160857]}], \"mean_absolute_error\": [{\"categories\": [\"0\", \"1\", \"2\", \"3\", \"4\", \"5\", \"6\", \"7\", \"8\", \"9\", \"10\", \"11\", \"12\", \"13\", \"14\", \"15\", \"16\", \"17\", \"18\", \"19\", \"20\", \"21\", \"22\", \"23\", \"24\", \"25\", \"26\", \"27\", \"28\", \"29\", \"30\", \"31\"], \"mode\": \"markers\", \"name\": \"mean_absolute_error\", \"stepped\": false, \"type\": \"scatter\", \"data\": [3792570.735959757, 3611884.690097402, 6262889.837617169, 3845102.4150848105, 5968226.378081607, 4045069.3808445903, 4477146.018558897, 4090880.920149454, 3980771.3720471384, 4243906.965817953, 3831496.708209444, 4687528.36566416, 3947076.9326902255, 4284589.424919401, 3914255.7922473373, 4070374.6942623155, 5849492.844598301, 4319972.990225564, 3873653.618793658, 4090203.944247868, 5684387.727313913, 4163623.725210663, 4138147.275725088, 3763077.7328096153, 4567424.000055338, 4176822.704770805, 4048351.47835471, 4256074.67979425, 4054112.943432445, 3862554.248250357, 3451577.986667422, 3507693.968958132]}, {\"categories\": [\"0\", \"1\", \"2\", \"3\", \"4\", \"5\", \"6\", \"7\", \"8\", \"9\", \"10\", \"11\", \"12\", \"13\", \"14\", \"15\", \"16\", \"17\", \"18\", \"19\", \"20\", \"21\", \"22\", \"23\", \"24\", \"25\", \"26\", \"27\", \"28\", \"29\", \"30\", \"31\"], \"mode\": \"lines\", \"name\": \"mean_absolute_error_min\", \"stepped\": true, \"type\": \"scatter\", \"data\": [3792570.735959757, 3611884.690097402, 3611884.690097402, 3611884.690097402, 3611884.690097402, 3611884.690097402, 3611884.690097402, 3611884.690097402, 3611884.690097402, 3611884.690097402, 3611884.690097402, 3611884.690097402, 3611884.690097402, 3611884.690097402, 3611884.690097402, 3611884.690097402, 3611884.690097402, 3611884.690097402, 3611884.690097402, 3611884.690097402, 3611884.690097402, 3611884.690097402, 3611884.690097402, 3611884.690097402, 3611884.690097402, 3611884.690097402, 3611884.690097402, 3611884.690097402, 3611884.690097402, 3611884.690097402, 3451577.986667422, 3451577.986667422]}], \"spearman_correlation\": [{\"categories\": [\"0\", \"1\", \"2\", \"3\", \"4\", \"5\", \"6\", \"7\", \"8\", \"9\", \"10\", \"11\", \"12\", \"13\", \"14\", \"15\", \"16\", \"17\", \"18\", \"19\", \"20\", \"21\", \"22\", \"23\", \"24\", \"25\", \"26\", \"27\", \"28\", \"29\", \"30\", \"31\"], \"mode\": \"markers\", \"name\": \"spearman_correlation\", \"stepped\": false, \"type\": \"scatter\", \"data\": [0.7746687213069039, 0.7647824463658657, 0.43177316604253385, 0.761318901968871, 0.5916509461161017, 0.7357586397549177, 0.6997088089948678, 0.7470937598085032, 0.7484246819394644, 0.7147529666745897, 0.7498972304404511, 0.6844546456116907, 0.7701166749325046, 0.6962737001096662, 0.7589517368469327, 0.7461028772841205, 0.6062219479524912, 0.6666591512194678, 0.7630107207360692, 0.7612798764255906, 0.6282784011975147, 0.705068330607941, 0.6911465727040144, 0.7685654649982697, 0.8029187303223939, 0.7150151660081651, 0.7384055806957377, 0.7697319475315014, 0.7395611103707465, 0.8079912972470609, 0.805224648153645, 0.8050469108889947]}, {\"categories\": [\"0\", \"1\", \"2\", \"3\", \"4\", \"5\", \"6\", \"7\", \"8\", \"9\", \"10\", \"11\", \"12\", \"13\", \"14\", \"15\", \"16\", \"17\", \"18\", \"19\", \"20\", \"21\", \"22\", \"23\", \"24\", \"25\", \"26\", \"27\", \"28\", \"29\", \"30\", \"31\"], \"mode\": \"lines\", \"name\": \"spearman_correlation_max\", \"stepped\": true, \"type\": \"scatter\", \"data\": [0.7746687213069039, 0.7746687213069039, 0.7746687213069039, 0.7746687213069039, 0.7746687213069039, 0.7746687213069039, 0.7746687213069039, 0.7746687213069039, 0.7746687213069039, 0.7746687213069039, 0.7746687213069039, 0.7746687213069039, 0.7746687213069039, 0.7746687213069039, 0.7746687213069039, 0.7746687213069039, 0.7746687213069039, 0.7746687213069039, 0.7746687213069039, 0.7746687213069039, 0.7746687213069039, 0.7746687213069039, 0.7746687213069039, 0.7746687213069039, 0.8029187303223939, 0.8029187303223939, 0.8029187303223939, 0.8029187303223939, 0.8029187303223939, 0.8079912972470609, 0.8079912972470609, 0.8079912972470609]}], \"explained_variance\": [{\"categories\": [\"0\", \"1\", \"2\", \"3\", \"4\", \"5\", \"6\", \"7\", \"8\", \"9\", \"10\", \"11\", \"12\", \"13\", \"14\", \"15\", \"16\", \"17\", \"18\", \"19\", \"20\", \"21\", \"22\", \"23\", \"24\", \"25\", \"26\", \"27\", \"28\", \"29\", \"30\", \"31\"], \"mode\": \"markers\", \"name\": \"explained_variance\", \"stepped\": false, \"type\": \"scatter\", \"data\": [0.6394759724934695, 0.6525629334484961, 0.18017692599486118, 0.570682764054396, 0.2470389056665004, 0.5522688820095695, 0.41298296390890793, 0.5177349266133568, 0.5550817965512685, 0.4681929428351985, 0.5991666197032404, 0.3746855335378507, 0.5849157892716111, 0.4801278876532318, 0.5942121875460126, 0.5289795872179326, 0.2660657274989311, 0.4552740647725354, 0.5880251660513993, 0.5232408745901871, 0.2907543948759215, 0.4949956014100641, 0.5105997668160872, 0.6121566531026266, 0.5576986587520786, 0.5592017307668364, 0.5111802435553375, 0.5936180733409178, 0.49180449017738576, 0.6366723834761217, 0.683635621501843, 0.6656493476170301]}, {\"categories\": [\"0\", \"1\", \"2\", \"3\", \"4\", \"5\", \"6\", \"7\", \"8\", \"9\", \"10\", \"11\", \"12\", \"13\", \"14\", \"15\", \"16\", \"17\", \"18\", \"19\", \"20\", \"21\", \"22\", \"23\", \"24\", \"25\", \"26\", \"27\", \"28\", \"29\", \"30\", \"31\"], \"mode\": \"lines\", \"name\": \"explained_variance_max\", \"stepped\": true, \"type\": \"scatter\", \"data\": [0.6394759724934695, 0.6525629334484961, 0.6525629334484961, 0.6525629334484961, 0.6525629334484961, 0.6525629334484961, 0.6525629334484961, 0.6525629334484961, 0.6525629334484961, 0.6525629334484961, 0.6525629334484961, 0.6525629334484961, 0.6525629334484961, 0.6525629334484961, 0.6525629334484961, 0.6525629334484961, 0.6525629334484961, 0.6525629334484961, 0.6525629334484961, 0.6525629334484961, 0.6525629334484961, 0.6525629334484961, 0.6525629334484961, 0.6525629334484961, 0.6525629334484961, 0.6525629334484961, 0.6525629334484961, 0.6525629334484961, 0.6525629334484961, 0.6525629334484961, 0.683635621501843, 0.683635621501843]}], \"normalized_root_mean_squared_error\": [{\"categories\": [\"0\", \"1\", \"2\", \"3\", \"4\", \"5\", \"6\", \"7\", \"8\", \"9\", \"10\", \"11\", \"12\", \"13\", \"14\", \"15\", \"16\", \"17\", \"18\", \"19\", \"20\", \"21\", \"22\", \"23\", \"24\", \"25\", \"26\", \"27\", \"28\", \"29\", \"30\", \"31\"], \"mode\": \"markers\", \"name\": \"normalized_root_mean_squared_error\", \"stepped\": false, \"type\": \"scatter\", \"data\": [0.1348275192266688, 0.1331972260633394, 0.20760801354771036, 0.1461399195963921, 0.19845941178889664, 0.1477592799411043, 0.16961957164254307, 0.1564198045807777, 0.15001132399075343, 0.162013637813227, 0.142749144463311, 0.17698210947282114, 0.1463997814024829, 0.1617980549925684, 0.14257559288535387, 0.15549250017090013, 0.19600659376020654, 0.16468286371646063, 0.14492435827092337, 0.15408921238554676, 0.19289050066990562, 0.15975828420720908, 0.15620318385724902, 0.13882276621595804, 0.15229558768719256, 0.15066810440491546, 0.15606374590843367, 0.14614817965561422, 0.159130646423879, 0.13741386775386405, 0.12630006114130538, 0.13067534976103398]}, {\"categories\": [\"0\", \"1\", \"2\", \"3\", \"4\", \"5\", \"6\", \"7\", \"8\", \"9\", \"10\", \"11\", \"12\", \"13\", \"14\", \"15\", \"16\", \"17\", \"18\", \"19\", \"20\", \"21\", \"22\", \"23\", \"24\", \"25\", \"26\", \"27\", \"28\", \"29\", \"30\", \"31\"], \"mode\": \"lines\", \"name\": \"normalized_root_mean_squared_error_min\", \"stepped\": true, \"type\": \"scatter\", \"data\": [0.1348275192266688, 0.1331972260633394, 0.1331972260633394, 0.1331972260633394, 0.1331972260633394, 0.1331972260633394, 0.1331972260633394, 0.1331972260633394, 0.1331972260633394, 0.1331972260633394, 0.1331972260633394, 0.1331972260633394, 0.1331972260633394, 0.1331972260633394, 0.1331972260633394, 0.1331972260633394, 0.1331972260633394, 0.1331972260633394, 0.1331972260633394, 0.1331972260633394, 0.1331972260633394, 0.1331972260633394, 0.1331972260633394, 0.1331972260633394, 0.1331972260633394, 0.1331972260633394, 0.1331972260633394, 0.1331972260633394, 0.1331972260633394, 0.1331972260633394, 0.12630006114130538, 0.12630006114130538]}]}, \"metricName\": null, \"primaryMetricName\": \"normalized_root_mean_squared_error\", \"showLegend\": false}, \"run_metrics\": [{\"name\": \"experiment_status\", \"run_id\": \"AutoML_2be82eef-3aa8-4e38-bccb-b32fef140c2c\", \"categories\": [0, 1, 2, 3, 4, 5, 6, 7, 8, 9, 10, 11, 12, 13], \"series\": [{\"data\": [\"DatasetEvaluation\", \"FeaturesGeneration\", \"DatasetFeaturization\", \"DatasetFeaturizationCompleted\", \"DatasetCrossValidationSplit\", \"ModelSelection\", \"BestRunExplainModel\", \"ModelExplanationDataSetSetup\", \"PickSurrogateModel\", \"EngineeredFeatureExplanations\", \"EngineeredFeatureExplanations\", \"RawFeaturesExplanations\", \"RawFeaturesExplanations\", \"BestRunExplainModel\"]}]}, {\"name\": \"experiment_status_description\", \"run_id\": \"AutoML_2be82eef-3aa8-4e38-bccb-b32fef140c2c\", \"categories\": [0, 1, 2, 3, 4, 5, 6, 7, 8, 9, 10, 11, 12, 13], \"series\": [{\"data\": [\"Gathering dataset statistics.\", \"Generating features for the dataset.\", \"Beginning to fit featurizers and featurize the dataset.\", \"Completed fit featurizers and featurizing the dataset.\", \"Generating individually featurized CV splits.\", \"Beginning model selection.\", \"Best run model explanations started\", \"Model explanations data setup completed\", \"Choosing LinearModel as the surrogate model for explanations\", \"Computation of engineered features started\", \"Computation of engineered features completed\", \"Computation of raw features started\", \"Computation of raw features completed\", \"Best run model explanations completed\"]}]}, {\"name\": \"normalized_root_mean_squared_log_error\", \"run_id\": \"AutoML_2be82eef-3aa8-4e38-bccb-b32fef140c2c\", \"categories\": [0], \"series\": [{\"data\": [0.11670062425863566]}]}, {\"name\": \"normalized_root_mean_squared_error\", \"run_id\": \"AutoML_2be82eef-3aa8-4e38-bccb-b32fef140c2c\", \"categories\": [0], \"series\": [{\"data\": [0.12630006114130538]}]}, {\"name\": \"median_absolute_error\", \"run_id\": \"AutoML_2be82eef-3aa8-4e38-bccb-b32fef140c2c\", \"categories\": [0], \"series\": [{\"data\": [2043286.3004684397]}]}, {\"name\": \"normalized_mean_absolute_error\", \"run_id\": \"AutoML_2be82eef-3aa8-4e38-bccb-b32fef140c2c\", \"categories\": [0], \"series\": [{\"data\": [0.08596238428507691]}]}, {\"name\": \"explained_variance\", \"run_id\": \"AutoML_2be82eef-3aa8-4e38-bccb-b32fef140c2c\", \"categories\": [0], \"series\": [{\"data\": [0.683635621501843]}]}, {\"name\": \"normalized_median_absolute_error\", \"run_id\": \"AutoML_2be82eef-3aa8-4e38-bccb-b32fef140c2c\", \"categories\": [0], \"series\": [{\"data\": [0.05088853934165085]}]}, {\"name\": \"root_mean_squared_error\", \"run_id\": \"AutoML_2be82eef-3aa8-4e38-bccb-b32fef140c2c\", \"categories\": [0], \"series\": [{\"data\": [5071224.05195731]}]}, {\"name\": \"spearman_correlation\", \"run_id\": \"AutoML_2be82eef-3aa8-4e38-bccb-b32fef140c2c\", \"categories\": [0], \"series\": [{\"data\": [0.805224648153645]}]}, {\"name\": \"root_mean_squared_log_error\", \"run_id\": \"AutoML_2be82eef-3aa8-4e38-bccb-b32fef140c2c\", \"categories\": [0], \"series\": [{\"data\": [0.726553278160857]}]}, {\"name\": \"mean_absolute_error\", \"run_id\": \"AutoML_2be82eef-3aa8-4e38-bccb-b32fef140c2c\", \"categories\": [0], \"series\": [{\"data\": [3451577.986667422]}]}, {\"name\": \"r2_score\", \"run_id\": \"AutoML_2be82eef-3aa8-4e38-bccb-b32fef140c2c\", \"categories\": [0], \"series\": [{\"data\": [0.6802915477009499]}]}, {\"name\": \"mean_absolute_percentage_error\", \"run_id\": \"AutoML_2be82eef-3aa8-4e38-bccb-b32fef140c2c\", \"categories\": [0], \"series\": [{\"data\": [96.12387951499342]}]}], \"run_logs\": \"\\nRun is completed.\", \"graph\": {}, \"widget_settings\": {\"childWidgetDisplay\": \"popup\", \"send_telemetry\": false, \"log_level\": \"INFO\", \"sdk_version\": \"1.20.0\"}, \"loading\": false}"
          },
          "metadata": {}
        }
      ],
      "execution_count": 11,
      "metadata": {
        "collapsed": true,
        "jupyter": {
          "source_hidden": false,
          "outputs_hidden": false
        },
        "nteract": {
          "transient": {
            "deleting": false
          }
        },
        "gather": {
          "logged": 1612137980207
        }
      }
    },
    {
      "cell_type": "markdown",
      "source": [
        "Mierzenie czas wykonywania Parenta niezbędnego do całego procesu AutoML. "
      ],
      "metadata": {
        "nteract": {
          "transient": {
            "deleting": false
          }
        }
      }
    },
    {
      "cell_type": "code",
      "source": [
        "import time\r\n",
        "import datetime as dt\r\n",
        "\r\n",
        "run_details = run.get_details()\r\n",
        "\r\n",
        "end_time_utc_str = run_details['endTimeUtc'].split(\".\")[0]\r\n",
        "start_time_utc_str = run_details['startTimeUtc'].split(\".\")[0]\r\n",
        "timestamp_end = time.mktime(datetime.strptime(end_time_utc_str, \"%Y-%m-%dT%H:%M:%S\").timetuple())\r\n",
        "timestamp_start = time.mktime(datetime.strptime(start_time_utc_str, \"%Y-%m-%dT%H:%M:%S\").timetuple())\r\n",
        "\r\n",
        "parent_run_time = timestamp_end - timestamp_start\r\n",
        "print('Run Timing: --- %s seconds needed for running the whole Remote AutoML Experiment ---' % (parent_run_time))"
      ],
      "outputs": [
        {
          "output_type": "stream",
          "name": "stdout",
          "text": [
            "Run Timing: --- 2463.0 seconds needed for running the whole Remote AutoML Experiment ---\n"
          ]
        }
      ],
      "execution_count": 12,
      "metadata": {
        "collapsed": true,
        "jupyter": {
          "source_hidden": false,
          "outputs_hidden": false
        },
        "nteract": {
          "transient": {
            "deleting": false
          }
        },
        "gather": {
          "logged": 1612137980402
        }
      }
    },
    {
      "cell_type": "markdown",
      "source": [
        "Otrzymanie najlepszego modelu"
      ],
      "metadata": {
        "nteract": {
          "transient": {
            "deleting": false
          }
        }
      }
    },
    {
      "cell_type": "code",
      "source": [
        "best_run, fitted_model = run.get_output(29)\r\n",
        "print(best_run)\r\n",
        "print(fitted_model)"
      ],
      "outputs": [
        {
          "output_type": "error",
          "ename": "ImportError",
          "evalue": "cannot import name 'UnhashableValueInColumn'",
          "traceback": [
            "\u001b[0;31m---------------------------------------------------------------------------\u001b[0m",
            "\u001b[0;31mImportError\u001b[0m                               Traceback (most recent call last)",
            "\u001b[0;32m<ipython-input-19-3a0b331981c8>\u001b[0m in \u001b[0;36m<module>\u001b[0;34m\u001b[0m\n\u001b[0;32m----> 1\u001b[0;31m \u001b[0mbest_run\u001b[0m\u001b[0;34m,\u001b[0m \u001b[0mfitted_model\u001b[0m \u001b[0;34m=\u001b[0m \u001b[0mrun\u001b[0m\u001b[0;34m.\u001b[0m\u001b[0mget_output\u001b[0m\u001b[0;34m(\u001b[0m\u001b[0;36m29\u001b[0m\u001b[0;34m)\u001b[0m\u001b[0;34m\u001b[0m\u001b[0;34m\u001b[0m\u001b[0m\n\u001b[0m\u001b[1;32m      2\u001b[0m \u001b[0mprint\u001b[0m\u001b[0;34m(\u001b[0m\u001b[0mbest_run\u001b[0m\u001b[0;34m)\u001b[0m\u001b[0;34m\u001b[0m\u001b[0;34m\u001b[0m\u001b[0m\n\u001b[1;32m      3\u001b[0m \u001b[0mprint\u001b[0m\u001b[0;34m(\u001b[0m\u001b[0mfitted_model\u001b[0m\u001b[0;34m)\u001b[0m\u001b[0;34m\u001b[0m\u001b[0;34m\u001b[0m\u001b[0m\n",
            "\u001b[0;32m/anaconda/envs/azureml_py36/lib/python3.6/site-packages/azureml/train/automl/run.py\u001b[0m in \u001b[0;36mget_output\u001b[0;34m(self, iteration, metric, return_onnx_model, return_split_onnx_model, **kwargs)\u001b[0m\n\u001b[1;32m    697\u001b[0m                     \u001b[0mfitted_model\u001b[0m \u001b[0;34m=\u001b[0m \u001b[0m_download_automl_onnx_model\u001b[0m\u001b[0;34m(\u001b[0m\u001b[0mcurr_run\u001b[0m\u001b[0;34m,\u001b[0m \u001b[0mmodel_name\u001b[0m\u001b[0;34m)\u001b[0m\u001b[0;34m\u001b[0m\u001b[0;34m\u001b[0m\u001b[0m\n\u001b[1;32m    698\u001b[0m                 \u001b[0;32melse\u001b[0m\u001b[0;34m:\u001b[0m\u001b[0;34m\u001b[0m\u001b[0;34m\u001b[0m\u001b[0m\n\u001b[0;32m--> 699\u001b[0;31m                     \u001b[0mfitted_model\u001b[0m \u001b[0;34m=\u001b[0m \u001b[0m_download_automl_model\u001b[0m\u001b[0;34m(\u001b[0m\u001b[0mcurr_run\u001b[0m\u001b[0;34m,\u001b[0m \u001b[0mmodel_name\u001b[0m\u001b[0;34m)\u001b[0m\u001b[0;34m\u001b[0m\u001b[0;34m\u001b[0m\u001b[0m\n\u001b[0m\u001b[1;32m    700\u001b[0m \u001b[0;34m\u001b[0m\u001b[0m\n\u001b[1;32m    701\u001b[0m             \u001b[0;32mreturn\u001b[0m \u001b[0mcurr_run\u001b[0m\u001b[0;34m,\u001b[0m \u001b[0mfitted_model\u001b[0m\u001b[0;34m\u001b[0m\u001b[0;34m\u001b[0m\u001b[0m\n",
            "\u001b[0;32m/anaconda/envs/azureml_py36/lib/python3.6/site-packages/azureml/train/automl/_model_download_utilities.py\u001b[0m in \u001b[0;36m_download_automl_model\u001b[0;34m(run, model_name)\u001b[0m\n\u001b[1;32m     85\u001b[0m             \u001b[0;31m# Pass through any exceptions from loading the model.\u001b[0m\u001b[0;34m\u001b[0m\u001b[0;34m\u001b[0m\u001b[0;34m\u001b[0m\u001b[0m\n\u001b[1;32m     86\u001b[0m             \u001b[0;31m# Try is used here to ensure we can cleanup the side effect of model downlad.\u001b[0m\u001b[0;34m\u001b[0m\u001b[0;34m\u001b[0m\u001b[0;34m\u001b[0m\u001b[0m\n\u001b[0;32m---> 87\u001b[0;31m             \u001b[0mmodel\u001b[0m \u001b[0;34m=\u001b[0m \u001b[0m_load_automl_model\u001b[0m\u001b[0;34m(\u001b[0m\u001b[0mmodel_path\u001b[0m\u001b[0;34m)\u001b[0m\u001b[0;34m\u001b[0m\u001b[0;34m\u001b[0m\u001b[0m\n\u001b[0m\u001b[1;32m     88\u001b[0m             \u001b[0;32mif\u001b[0m \u001b[0mmodel\u001b[0m \u001b[0;32mis\u001b[0m \u001b[0;32mNone\u001b[0m\u001b[0;34m:\u001b[0m\u001b[0;34m\u001b[0m\u001b[0;34m\u001b[0m\u001b[0m\n\u001b[1;32m     89\u001b[0m                 \u001b[0;31m# If we can retrieve the automl runtime version, we do so we can inform the user what to install.\u001b[0m\u001b[0;34m\u001b[0m\u001b[0;34m\u001b[0m\u001b[0;34m\u001b[0m\u001b[0m\n",
            "\u001b[0;32m/anaconda/envs/azureml_py36/lib/python3.6/site-packages/azureml/train/automl/_model_download_utilities.py\u001b[0m in \u001b[0;36m_load_automl_model\u001b[0;34m(model_path)\u001b[0m\n\u001b[1;32m    151\u001b[0m         \u001b[0;32mimport\u001b[0m \u001b[0mazureml\u001b[0m\u001b[0;34m.\u001b[0m\u001b[0mtrain\u001b[0m\u001b[0;34m.\u001b[0m\u001b[0mautoml\u001b[0m\u001b[0;34m.\u001b[0m\u001b[0mruntime\u001b[0m\u001b[0;34m\u001b[0m\u001b[0;34m\u001b[0m\u001b[0m\n\u001b[1;32m    152\u001b[0m         \u001b[0;32mwith\u001b[0m \u001b[0mopen\u001b[0m\u001b[0;34m(\u001b[0m\u001b[0mmodel_path\u001b[0m\u001b[0;34m,\u001b[0m \u001b[0;34m\"rb\"\u001b[0m\u001b[0;34m)\u001b[0m \u001b[0;32mas\u001b[0m \u001b[0mmodel_file\u001b[0m\u001b[0;34m:\u001b[0m\u001b[0;34m\u001b[0m\u001b[0;34m\u001b[0m\u001b[0m\n\u001b[0;32m--> 153\u001b[0;31m             \u001b[0mfitted_model\u001b[0m \u001b[0;34m=\u001b[0m \u001b[0mpickle\u001b[0m\u001b[0;34m.\u001b[0m\u001b[0mload\u001b[0m\u001b[0;34m(\u001b[0m\u001b[0mmodel_file\u001b[0m\u001b[0;34m)\u001b[0m  \u001b[0;31m# type: Optional[Any]\u001b[0m\u001b[0;34m\u001b[0m\u001b[0;34m\u001b[0m\u001b[0m\n\u001b[0m\u001b[1;32m    154\u001b[0m             \u001b[0;32mreturn\u001b[0m \u001b[0mfitted_model\u001b[0m\u001b[0;34m\u001b[0m\u001b[0;34m\u001b[0m\u001b[0m\n\u001b[1;32m    155\u001b[0m     \u001b[0;32mexcept\u001b[0m \u001b[0mImportError\u001b[0m \u001b[0;32mas\u001b[0m \u001b[0me\u001b[0m\u001b[0;34m:\u001b[0m\u001b[0;34m\u001b[0m\u001b[0;34m\u001b[0m\u001b[0m\n",
            "\u001b[0;32m/anaconda/envs/azureml_py36/lib/python3.6/site-packages/azureml/automl/runtime/_ml_engine/__init__.py\u001b[0m in \u001b[0;36m<module>\u001b[0;34m\u001b[0m\n\u001b[1;32m      4\u001b[0m \u001b[0;34m\"\"\"Classes and methods for MLEngine.\"\"\"\u001b[0m\u001b[0;34m\u001b[0m\u001b[0;34m\u001b[0m\u001b[0m\n\u001b[1;32m      5\u001b[0m \u001b[0;34m\u001b[0m\u001b[0m\n\u001b[0;32m----> 6\u001b[0;31m \u001b[0;32mfrom\u001b[0m \u001b[0;34m.\u001b[0m\u001b[0mml_engine\u001b[0m \u001b[0;32mimport\u001b[0m \u001b[0mvalidate\u001b[0m\u001b[0;34m,\u001b[0m \u001b[0mfeaturize\u001b[0m\u001b[0;34m,\u001b[0m \u001b[0mtrain\u001b[0m\u001b[0;34m,\u001b[0m \u001b[0mevaluate_classifier\u001b[0m\u001b[0;34m\u001b[0m\u001b[0;34m\u001b[0m\u001b[0m\n\u001b[0m\u001b[1;32m      7\u001b[0m \u001b[0;34m\u001b[0m\u001b[0m\n\u001b[1;32m      8\u001b[0m \u001b[0;32mfrom\u001b[0m \u001b[0;34m.\u001b[0m\u001b[0mfeaturizer_suggestion\u001b[0m \u001b[0;32mimport\u001b[0m \u001b[0msuggest_featurizers\u001b[0m\u001b[0;34m\u001b[0m\u001b[0;34m\u001b[0m\u001b[0m\n",
            "\u001b[0;32m/anaconda/envs/azureml_py36/lib/python3.6/site-packages/azureml/automl/runtime/_ml_engine/ml_engine.py\u001b[0m in \u001b[0;36m<module>\u001b[0;34m\u001b[0m\n\u001b[1;32m     47\u001b[0m \u001b[0;32mfrom\u001b[0m \u001b[0mazureml\u001b[0m\u001b[0;34m.\u001b[0m\u001b[0mautoml\u001b[0m\u001b[0;34m.\u001b[0m\u001b[0mcore\u001b[0m\u001b[0;34m.\u001b[0m\u001b[0mautoml_base_settings\u001b[0m \u001b[0;32mimport\u001b[0m \u001b[0mAutoMLBaseSettings\u001b[0m\u001b[0;34m\u001b[0m\u001b[0;34m\u001b[0m\u001b[0m\n\u001b[1;32m     48\u001b[0m \u001b[0;32mfrom\u001b[0m \u001b[0mazureml\u001b[0m\u001b[0;34m.\u001b[0m\u001b[0mautoml\u001b[0m\u001b[0;34m.\u001b[0m\u001b[0mruntime\u001b[0m\u001b[0;34m.\u001b[0m\u001b[0m_data_definition\u001b[0m \u001b[0;32mimport\u001b[0m \u001b[0mRawExperimentData\u001b[0m\u001b[0;34m\u001b[0m\u001b[0;34m\u001b[0m\u001b[0m\n\u001b[0;32m---> 49\u001b[0;31m \u001b[0;32mfrom\u001b[0m \u001b[0mazureml\u001b[0m\u001b[0;34m.\u001b[0m\u001b[0mautoml\u001b[0m\u001b[0;34m.\u001b[0m\u001b[0mruntime\u001b[0m\u001b[0;34m.\u001b[0m\u001b[0m_ml_engine\u001b[0m\u001b[0;34m.\u001b[0m\u001b[0mvalidation\u001b[0m \u001b[0;32mimport\u001b[0m \u001b[0mRawExperimentDataValidator\u001b[0m\u001b[0;34m\u001b[0m\u001b[0;34m\u001b[0m\u001b[0m\n\u001b[0m\u001b[1;32m     50\u001b[0m \u001b[0;32mfrom\u001b[0m \u001b[0mazureml\u001b[0m\u001b[0;34m.\u001b[0m\u001b[0mautoml\u001b[0m\u001b[0;34m.\u001b[0m\u001b[0mruntime\u001b[0m\u001b[0;34m.\u001b[0m\u001b[0mfeaturization\u001b[0m \u001b[0;32mimport\u001b[0m \u001b[0mAutoMLTransformer\u001b[0m\u001b[0;34m\u001b[0m\u001b[0;34m\u001b[0m\u001b[0m\n\u001b[1;32m     51\u001b[0m \u001b[0;32mfrom\u001b[0m \u001b[0mazureml\u001b[0m\u001b[0;34m.\u001b[0m\u001b[0mautoml\u001b[0m\u001b[0;34m.\u001b[0m\u001b[0mruntime\u001b[0m\u001b[0;34m.\u001b[0m\u001b[0mshared\u001b[0m\u001b[0;34m.\u001b[0m\u001b[0mtypes\u001b[0m \u001b[0;32mimport\u001b[0m \u001b[0mDataInputType\u001b[0m\u001b[0;34m\u001b[0m\u001b[0;34m\u001b[0m\u001b[0m\n",
            "\u001b[0;32m/anaconda/envs/azureml_py36/lib/python3.6/site-packages/azureml/automl/runtime/_ml_engine/validation/__init__.py\u001b[0m in \u001b[0;36m<module>\u001b[0;34m\u001b[0m\n\u001b[1;32m      5\u001b[0m \u001b[0;31m# Module containing all common interfaces related to data validations.\u001b[0m\u001b[0;34m\u001b[0m\u001b[0;34m\u001b[0m\u001b[0;34m\u001b[0m\u001b[0m\n\u001b[1;32m      6\u001b[0m \u001b[0;32mfrom\u001b[0m \u001b[0;34m.\u001b[0m\u001b[0mvalidators\u001b[0m \u001b[0;32mimport\u001b[0m \u001b[0mAbstractRawExperimentDataValidator\u001b[0m\u001b[0;34m,\u001b[0m \u001b[0mAbstractTabularDataValidator\u001b[0m\u001b[0;34m\u001b[0m\u001b[0;34m\u001b[0m\u001b[0m\n\u001b[0;32m----> 7\u001b[0;31m \u001b[0;32mfrom\u001b[0m \u001b[0;34m.\u001b[0m\u001b[0mmaterialized_tabular_data_validator\u001b[0m \u001b[0;32mimport\u001b[0m \u001b[0mMaterializedTabularDataValidator\u001b[0m\u001b[0;34m\u001b[0m\u001b[0;34m\u001b[0m\u001b[0m\n\u001b[0m\u001b[1;32m      8\u001b[0m \u001b[0;32mfrom\u001b[0m \u001b[0;34m.\u001b[0m\u001b[0mraw_experiment_data_validator\u001b[0m \u001b[0;32mimport\u001b[0m \u001b[0mRawExperimentDataValidator\u001b[0m\u001b[0;34m\u001b[0m\u001b[0;34m\u001b[0m\u001b[0m\n",
            "\u001b[0;32m/anaconda/envs/azureml_py36/lib/python3.6/site-packages/azureml/automl/runtime/_ml_engine/validation/materialized_tabular_data_validator.py\u001b[0m in \u001b[0;36m<module>\u001b[0;34m\u001b[0m\n\u001b[1;32m     24\u001b[0m \u001b[0;32mfrom\u001b[0m \u001b[0mazureml\u001b[0m\u001b[0;34m.\u001b[0m\u001b[0mautoml\u001b[0m\u001b[0;34m.\u001b[0m\u001b[0mruntime\u001b[0m \u001b[0;32mimport\u001b[0m \u001b[0m_common_training_utilities\u001b[0m\u001b[0;34m\u001b[0m\u001b[0;34m\u001b[0m\u001b[0m\n\u001b[1;32m     25\u001b[0m \u001b[0;32mfrom\u001b[0m \u001b[0mazureml\u001b[0m\u001b[0;34m.\u001b[0m\u001b[0mautoml\u001b[0m\u001b[0;34m.\u001b[0m\u001b[0mruntime\u001b[0m\u001b[0;34m.\u001b[0m\u001b[0m_data_definition\u001b[0m \u001b[0;32mimport\u001b[0m \u001b[0mMaterializedTabularData\u001b[0m\u001b[0;34m\u001b[0m\u001b[0;34m\u001b[0m\u001b[0m\n\u001b[0;32m---> 26\u001b[0;31m \u001b[0;32mfrom\u001b[0m \u001b[0mazureml\u001b[0m\u001b[0;34m.\u001b[0m\u001b[0mautoml\u001b[0m\u001b[0;34m.\u001b[0m\u001b[0mruntime\u001b[0m\u001b[0;34m.\u001b[0m\u001b[0m_ml_engine\u001b[0m\u001b[0;34m.\u001b[0m\u001b[0mvalidation\u001b[0m \u001b[0;32mimport\u001b[0m \u001b[0mcommon_data_validations\u001b[0m\u001b[0;34m\u001b[0m\u001b[0;34m\u001b[0m\u001b[0m\n\u001b[0m\u001b[1;32m     27\u001b[0m \u001b[0;32mfrom\u001b[0m \u001b[0mazureml\u001b[0m\u001b[0;34m.\u001b[0m\u001b[0mautoml\u001b[0m\u001b[0;34m.\u001b[0m\u001b[0mruntime\u001b[0m\u001b[0;34m.\u001b[0m\u001b[0m_ml_engine\u001b[0m\u001b[0;34m.\u001b[0m\u001b[0mvalidation\u001b[0m\u001b[0;34m.\u001b[0m\u001b[0mvalidators\u001b[0m \u001b[0;32mimport\u001b[0m \u001b[0mAbstractTabularDataValidator\u001b[0m\u001b[0;34m\u001b[0m\u001b[0;34m\u001b[0m\u001b[0m\n\u001b[1;32m     28\u001b[0m \u001b[0;32mfrom\u001b[0m \u001b[0mazureml\u001b[0m\u001b[0;34m.\u001b[0m\u001b[0mautoml\u001b[0m\u001b[0;34m.\u001b[0m\u001b[0mruntime\u001b[0m\u001b[0;34m.\u001b[0m\u001b[0mshared\u001b[0m \u001b[0;32mimport\u001b[0m \u001b[0mutilities\u001b[0m \u001b[0;32mas\u001b[0m \u001b[0mruntime_utilities\u001b[0m\u001b[0;34m\u001b[0m\u001b[0;34m\u001b[0m\u001b[0m\n",
            "\u001b[0;32m/anaconda/envs/azureml_py36/lib/python3.6/site-packages/azureml/automl/runtime/_ml_engine/validation/common_data_validations.py\u001b[0m in \u001b[0;36m<module>\u001b[0;34m\u001b[0m\n\u001b[1;32m     17\u001b[0m \u001b[0;32mfrom\u001b[0m \u001b[0mazureml\u001b[0m\u001b[0;34m.\u001b[0m\u001b[0mautoml\u001b[0m\u001b[0;34m.\u001b[0m\u001b[0mcore\u001b[0m\u001b[0;34m.\u001b[0m\u001b[0mfeaturization\u001b[0m \u001b[0;32mimport\u001b[0m \u001b[0mFeaturizationConfig\u001b[0m\u001b[0;34m\u001b[0m\u001b[0;34m\u001b[0m\u001b[0m\n\u001b[1;32m     18\u001b[0m \u001b[0;32mfrom\u001b[0m \u001b[0mazureml\u001b[0m\u001b[0;34m.\u001b[0m\u001b[0mautoml\u001b[0m\u001b[0;34m.\u001b[0m\u001b[0mcore\u001b[0m\u001b[0;34m.\u001b[0m\u001b[0mshared\u001b[0m \u001b[0;32mimport\u001b[0m \u001b[0mconstants\u001b[0m\u001b[0;34m,\u001b[0m \u001b[0mutilities\u001b[0m\u001b[0;34m\u001b[0m\u001b[0;34m\u001b[0m\u001b[0m\n\u001b[0;32m---> 19\u001b[0;31m from azureml.automl.core.shared._diagnostics.automl_error_definitions import (\n\u001b[0m\u001b[1;32m     20\u001b[0m     \u001b[0mDatasetContainsInf\u001b[0m\u001b[0;34m,\u001b[0m \u001b[0mDataShapeMismatch\u001b[0m\u001b[0;34m,\u001b[0m \u001b[0mExperimentTimeoutForDataSize\u001b[0m\u001b[0;34m,\u001b[0m \u001b[0mFeaturizationConfigColumnMissing\u001b[0m\u001b[0;34m,\u001b[0m\u001b[0;34m\u001b[0m\u001b[0;34m\u001b[0m\u001b[0m\n\u001b[1;32m     21\u001b[0m     \u001b[0mInvalidMetricForSingleValuedColumn\u001b[0m\u001b[0;34m,\u001b[0m \u001b[0mInvalidValuesInData\u001b[0m\u001b[0;34m,\u001b[0m \u001b[0mSampleCountMismatch\u001b[0m\u001b[0;34m,\u001b[0m \u001b[0mUnhashableValueInColumn\u001b[0m\u001b[0;34m,\u001b[0m\u001b[0;34m\u001b[0m\u001b[0;34m\u001b[0m\u001b[0m\n",
            "\u001b[0;31mImportError\u001b[0m: cannot import name 'UnhashableValueInColumn'"
          ]
        }
      ],
      "execution_count": 19,
      "metadata": {
        "collapsed": true,
        "jupyter": {
          "source_hidden": false,
          "outputs_hidden": false
        },
        "nteract": {
          "transient": {
            "deleting": false
          }
        }
      }
    },
    {
      "cell_type": "markdown",
      "source": [
        "Wyekstrahowanie kolumny z wynikami i konwersja do tablicy NumPi do procesu przewidywania."
      ],
      "metadata": {
        "nteract": {
          "transient": {
            "deleting": false
          }
        }
      }
    },
    {
      "cell_type": "code",
      "source": [
        "import pandas as pd\r\n",
        "\r\n",
        "#Remove Label/y column\r\n",
        "if 'Attrition' in test_dataset_df.columns:\r\n",
        "    y_test_df = test_dataset_df.pop('salary')\r\n",
        "\r\n",
        "x_test_df = test_dataset_df"
      ],
      "outputs": [],
      "execution_count": 21,
      "metadata": {
        "collapsed": true,
        "jupyter": {
          "source_hidden": false,
          "outputs_hidden": false
        },
        "nteract": {
          "transient": {
            "deleting": false
          }
        },
        "gather": {
          "logged": 1612138279652
        }
      }
    },
    {
      "cell_type": "markdown",
      "source": [
        "Proces przewidywania niemożliwy do osiągnięcia poprzez błędy przedstawione powyżej."
      ],
      "metadata": {
        "nteract": {
          "transient": {
            "deleting": false
          }
        }
      }
    },
    {
      "cell_type": "code",
      "source": [
        "# Try the best model\r\n",
        "y_predictions = fitted_model.predict(x_test_df)\r\n",
        "\r\n",
        "print('10 predictions: ')\r\n",
        "print(y_predictions[:10])"
      ],
      "outputs": [
        {
          "output_type": "error",
          "ename": "NameError",
          "evalue": "name 'fitted_model' is not defined",
          "traceback": [
            "\u001b[0;31m---------------------------------------------------------------------------\u001b[0m",
            "\u001b[0;31mNameError\u001b[0m                                 Traceback (most recent call last)",
            "\u001b[0;32m<ipython-input-22-89a2eb5d9dc8>\u001b[0m in \u001b[0;36m<module>\u001b[0;34m\u001b[0m\n\u001b[1;32m      1\u001b[0m \u001b[0;31m# Try the best model\u001b[0m\u001b[0;34m\u001b[0m\u001b[0;34m\u001b[0m\u001b[0;34m\u001b[0m\u001b[0m\n\u001b[0;32m----> 2\u001b[0;31m \u001b[0my_predictions\u001b[0m \u001b[0;34m=\u001b[0m \u001b[0mfitted_model\u001b[0m\u001b[0;34m.\u001b[0m\u001b[0mpredict\u001b[0m\u001b[0;34m(\u001b[0m\u001b[0mx_test_df\u001b[0m\u001b[0;34m)\u001b[0m\u001b[0;34m\u001b[0m\u001b[0;34m\u001b[0m\u001b[0m\n\u001b[0m\u001b[1;32m      3\u001b[0m \u001b[0;34m\u001b[0m\u001b[0m\n\u001b[1;32m      4\u001b[0m \u001b[0mprint\u001b[0m\u001b[0;34m(\u001b[0m\u001b[0;34m'10 predictions: '\u001b[0m\u001b[0;34m)\u001b[0m\u001b[0;34m\u001b[0m\u001b[0;34m\u001b[0m\u001b[0m\n\u001b[1;32m      5\u001b[0m \u001b[0mprint\u001b[0m\u001b[0;34m(\u001b[0m\u001b[0my_predictions\u001b[0m\u001b[0;34m[\u001b[0m\u001b[0;34m:\u001b[0m\u001b[0;36m10\u001b[0m\u001b[0;34m]\u001b[0m\u001b[0;34m)\u001b[0m\u001b[0;34m\u001b[0m\u001b[0;34m\u001b[0m\u001b[0m\n",
            "\u001b[0;31mNameError\u001b[0m: name 'fitted_model' is not defined"
          ]
        }
      ],
      "execution_count": 22,
      "metadata": {
        "collapsed": true,
        "jupyter": {
          "source_hidden": false,
          "outputs_hidden": false
        },
        "nteract": {
          "transient": {
            "deleting": false
          }
        }
      }
    }
  ],
  "metadata": {
    "kernelspec": {
      "name": "python3-azureml",
      "language": "python",
      "display_name": "Python 3.6 - AzureML"
    },
    "language_info": {
      "name": "python",
      "version": "3.6.9",
      "mimetype": "text/x-python",
      "codemirror_mode": {
        "name": "ipython",
        "version": 3
      },
      "pygments_lexer": "ipython3",
      "nbconvert_exporter": "python",
      "file_extension": ".py"
    },
    "kernel_info": {
      "name": "python3-azureml"
    },
    "nteract": {
      "version": "nteract-front-end@1.0.0"
    }
  },
  "nbformat": 4,
  "nbformat_minor": 2
}